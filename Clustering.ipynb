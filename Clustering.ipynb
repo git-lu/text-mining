{
 "cells": [
  {
   "cell_type": "code",
   "execution_count": 1,
   "id": "d406241f-a421-4731-97c8-93ca312fcd4a",
   "metadata": {},
   "outputs": [],
   "source": [
    "%load_ext autoreload\n",
    "%autoreload 2"
   ]
  },
  {
   "cell_type": "code",
   "execution_count": 2,
   "id": "89ba6420-78f2-4e99-857b-88d0f2954d4f",
   "metadata": {},
   "outputs": [],
   "source": [
    "%matplotlib inline\n",
    "import matplotlib.pyplot as plt\n",
    "import pandas as pd\n",
    "import numpy as np\n",
    "import spacy\n",
    "import pickle\n",
    "import nltk\n",
    "import seaborn as sns\n",
    "import os\n",
    "import re \n",
    "import sklearn.manifold\n",
    "from collections import Counter\n",
    "from nltk.cluster import kmeans, cosine_distance\n",
    "from gensim.models import Word2Vec"
   ]
  },
  {
   "cell_type": "code",
   "execution_count": 3,
   "id": "8a46e438-2cab-4481-bdb9-235d7b7e940b",
   "metadata": {},
   "outputs": [],
   "source": [
    "from clustering.embedding import WordEmbedding"
   ]
  },
  {
   "cell_type": "code",
   "execution_count": 4,
   "id": "8cec8931-3122-4c6f-bc7b-f3ba66cb28f0",
   "metadata": {
    "tags": []
   },
   "outputs": [],
   "source": [
    "#!python -m spacy download es_core_news_sm\n",
    "#!python -m spacy download es_core_news_md\n",
    "#nltk.download('punkt')\n",
    "#nltk.download('wordnet')"
   ]
  },
  {
   "cell_type": "code",
   "execution_count": 5,
   "id": "e615d11f-0265-438b-a27e-6f571b244c08",
   "metadata": {},
   "outputs": [],
   "source": [
    "df = pd.read_csv('datos_estructurados_malba')"
   ]
  },
  {
   "cell_type": "code",
   "execution_count": 6,
   "id": "79013f72-6038-40c7-a810-25d1399aba3c",
   "metadata": {},
   "outputs": [
    {
     "data": {
      "text/plain": [
       "<matplotlib.axes._subplots.AxesSubplot at 0x7f4d189e0310>"
      ]
     },
     "execution_count": 6,
     "metadata": {},
     "output_type": "execute_result"
    },
    {
     "data": {
      "image/png": "[encoded data removed]",
      "text/plain": [
       "<Figure size 432x288 with 1 Axes>"
      ]
     },
     "metadata": {
      "needs_background": "light"
     },
     "output_type": "display_data"
    }
   ],
   "source": [
    "sns.histplot(data=df,x='Año',hue='En exposición',)"
   ]
  },
  {
   "cell_type": "code",
   "execution_count": 7,
   "id": "52a27210-7a2d-4578-8b46-3746345a8666",
   "metadata": {},
   "outputs": [
    {
     "data": {
      "text/plain": [
       "Index(['URL_obra', 'Texto', 'URL_autor', 'Titulo', 'Año', 'Técnica', 'Medidas',\n",
       "       'Nro. de inventario', 'Donación', 'En exposición', 'Duración'],\n",
       "      dtype='object')"
      ]
     },
     "execution_count": 7,
     "metadata": {},
     "output_type": "execute_result"
    }
   ],
   "source": [
    "df.columns"
   ]
  },
  {
   "cell_type": "code",
   "execution_count": 8,
   "id": "fcf602ef-7170-4b5e-b569-481e385193a5",
   "metadata": {},
   "outputs": [
    {
     "data": {
      "text/plain": [
       "351"
      ]
     },
     "execution_count": 8,
     "metadata": {},
     "output_type": "execute_result"
    }
   ],
   "source": [
    "len(df['Técnica'].unique())"
   ]
  },
  {
   "cell_type": "code",
   "execution_count": 9,
   "id": "315af21a-f0c3-4344-9dc8-a1867c7d45f0",
   "metadata": {},
   "outputs": [
    {
     "data": {
      "text/plain": [
       "Óleo sobre tela                                                                    43\n",
       "Copia heliográfica sobre papel. x/∞                                                25\n",
       "Tinta sobre papel                                                                  15\n",
       "Lápiz sobre papel                                                                  14\n",
       "Cartón y papel pintado                                                             12\n",
       "                                                                                   ..\n",
       "Acero y motor a 220v en caja metálica esmaltada con interior de papel estampado     1\n",
       "Madera, pintura, cartas                                                             1\n",
       "Cuatro serigrafías sobre papel. Edición 1/5                                         1\n",
       "Cerámica esmaltada y lustre de platino                                              1\n",
       "Esmalte bajo plexiglás y receptáculo para peces de agua fría                        1\n",
       "Name: Técnica, Length: 350, dtype: int64"
      ]
     },
     "execution_count": 9,
     "metadata": {},
     "output_type": "execute_result"
    }
   ],
   "source": [
    "df['Técnica'].value_counts()"
   ]
  },
  {
   "cell_type": "code",
   "execution_count": 10,
   "id": "90ad90c2-e2a9-4b60-ad93-58bb12477139",
   "metadata": {},
   "outputs": [],
   "source": [
    "textos = (df.dropna(subset=['Texto']).Texto.values)"
   ]
  },
  {
   "cell_type": "code",
   "execution_count": 11,
   "id": "d9445aa6-cbb0-4d2a-b03f-c2892a88211d",
   "metadata": {},
   "outputs": [
    {
     "data": {
      "text/plain": [
       "277"
      ]
     },
     "execution_count": 11,
     "metadata": {},
     "output_type": "execute_result"
    }
   ],
   "source": [
    "len(textos)"
   ]
  },
  {
   "cell_type": "code",
   "execution_count": 12,
   "id": "d534e531-58c3-4d14-90f7-4d6bafbccd65",
   "metadata": {},
   "outputs": [],
   "source": [
    "texto = \"\".join(textos).strip()"
   ]
  },
  {
   "cell_type": "code",
   "execution_count": 13,
   "id": "7fc2f0a0-0b78-47a4-ad19-2c74be573044",
   "metadata": {},
   "outputs": [
    {
     "data": {
      "text/plain": [
       "1542053"
      ]
     },
     "execution_count": 13,
     "metadata": {},
     "output_type": "execute_result"
    }
   ],
   "source": [
    "len(texto)"
   ]
  },
  {
   "cell_type": "markdown",
   "id": "2ee3508b-9d30-49b6-993d-8b686a2f8c25",
   "metadata": {},
   "source": [
    "# Preprocesamos\n",
    "\n",
    "Vamos a preprocesar:\n",
    "- Eliminamos los números de las notas al pie, que son los números precedidos por puntos (.2 Blahblah)\n",
    "- Reemplazamos \\n3, \\n, s\\p por espacios\n",
    "- Separamos en oraciones\n",
    "- Lowercase todo\n",
    "- Nos deshacemos de caracteres especiales\n",
    "- Nos deshacemos de oraciones muy cortas"
   ]
  },
  {
   "cell_type": "code",
   "execution_count": 14,
   "id": "5e717171-3109-4b00-924a-d9edf66f5df0",
   "metadata": {},
   "outputs": [],
   "source": [
    "#texto = \"Texto de Agustin Díez Fischer\\n\\xa0\\nNotas\\n1.\""
   ]
  },
  {
   "cell_type": "code",
   "execution_count": 15,
   "id": "333f03ad-bf83-4a40-91e8-4205e3c24629",
   "metadata": {},
   "outputs": [],
   "source": [
    "texto_limpio = re.sub(\"\\d?\\\\n\\d?\\.?\", \"\", texto)\n",
    "texto_limpio = re.sub(\"\\.\\d\", \". \", texto_limpio)\n",
    "texto_limpio = re.sub(\"s\\/p\\.\", \". \", texto_limpio)\n",
    "puntos_mal = re.findall(\".?\\.[A-Z]\",texto_limpio)"
   ]
  },
  {
   "cell_type": "code",
   "execution_count": 16,
   "id": "5216e9e4-5360-400c-87f5-a888a7db13bc",
   "metadata": {
    "tags": []
   },
   "outputs": [],
   "source": [
    "for elem in puntos_mal:\n",
    "    if len(elem) == 2:\n",
    "        repl = (elem[0] + ' ' + elem[1])\n",
    "    elif len(elem) == 3:\n",
    "        repl = (elem[0] + elem[1] + ' ' + elem[2])\n",
    "    texto_limpio = texto_limpio.replace(elem, repl)"
   ]
  },
  {
   "cell_type": "markdown",
   "id": "e143bd67-2726-44f9-be05-ea7474fa8257",
   "metadata": {},
   "source": [
    "# Utilizamos contexto de oraciones "
   ]
  },
  {
   "cell_type": "code",
   "execution_count": 17,
   "id": "b5bd9a4b-3849-4d8f-98ee-0927a04d9a02",
   "metadata": {},
   "outputs": [],
   "source": [
    "from nltk.tokenize import sent_tokenize\n",
    "from nltk.tokenize.punkt import PunktTrainer, PunktSentenceTokenizer"
   ]
  },
  {
   "cell_type": "code",
   "execution_count": 18,
   "id": "5b863dd7-b6df-4f9e-ac2f-a3957ea6ae10",
   "metadata": {},
   "outputs": [],
   "source": [
    "pt = PunktSentenceTokenizer(texto,verbose=True)"
   ]
  },
  {
   "cell_type": "code",
   "execution_count": 19,
   "id": "7f755874-7d7c-455e-9455-6b7142a37383",
   "metadata": {},
   "outputs": [],
   "source": [
    "sentences = pt.tokenize(texto)"
   ]
  },
  {
   "cell_type": "code",
   "execution_count": 20,
   "id": "f0a7746e-9ba1-46d5-882c-f139cbd8f51e",
   "metadata": {},
   "outputs": [
    {
     "data": {
      "text/plain": [
       "7048"
      ]
     },
     "execution_count": 20,
     "metadata": {},
     "output_type": "execute_result"
    }
   ],
   "source": [
    "len(sentences)"
   ]
  },
  {
   "cell_type": "code",
   "execution_count": 21,
   "id": "9164783b-0180-454a-8f8a-2c59849144c4",
   "metadata": {},
   "outputs": [],
   "source": [
    "sentences_len = [len(s) for s in sentences]"
   ]
  },
  {
   "cell_type": "code",
   "execution_count": 22,
   "id": "4af7410d-d847-42a5-8419-a3f21d71c281",
   "metadata": {},
   "outputs": [
    {
     "data": {
      "text/plain": [
       "<matplotlib.axes._subplots.AxesSubplot at 0x7f4d110123a0>"
      ]
     },
     "execution_count": 22,
     "metadata": {},
     "output_type": "execute_result"
    },
    {
     "data": {
      "image/png": "[encoded data removed]",
      "text/plain": [
       "<Figure size 432x288 with 1 Axes>"
      ]
     },
     "metadata": {
      "needs_background": "light"
     },
     "output_type": "display_data"
    }
   ],
   "source": [
    "sns.histplot(x=sentences_len,bins=20)"
   ]
  },
  {
   "cell_type": "code",
   "execution_count": 23,
   "id": "ece50f68-195b-44b8-a7b3-bac1f6c29d68",
   "metadata": {},
   "outputs": [],
   "source": [
    "sent_df = pd.DataFrame({'sent':sentences,'leng':sentences_len})"
   ]
  },
  {
   "cell_type": "code",
   "execution_count": 24,
   "id": "08685599-6a35-4e25-9547-495f449264c2",
   "metadata": {},
   "outputs": [
    {
     "data": {
      "text/html": [
       "<div>\n",
       "<style scoped>\n",
       "    .dataframe tbody tr th:only-of-type {\n",
       "        vertical-align: middle;\n",
       "    }\n",
       "\n",
       "    .dataframe tbody tr th {\n",
       "        vertical-align: top;\n",
       "    }\n",
       "\n",
       "    .dataframe thead th {\n",
       "        text-align: right;\n",
       "    }\n",
       "</style>\n",
       "<table border=\"1\" class=\"dataframe\">\n",
       "  <thead>\n",
       "    <tr style=\"text-align: right;\">\n",
       "      <th></th>\n",
       "      <th>sent</th>\n",
       "      <th>leng</th>\n",
       "    </tr>\n",
       "  </thead>\n",
       "  <tbody>\n",
       "    <tr>\n",
       "      <th>5962</th>\n",
       "      <td>Los estilos del grupo son variados, y Hélio ya...</td>\n",
       "      <td>106</td>\n",
       "    </tr>\n",
       "    <tr>\n",
       "      <th>1860</th>\n",
       "      <td>En la segunda mitad del siglo XIX, el artista ...</td>\n",
       "      <td>115</td>\n",
       "    </tr>\n",
       "    <tr>\n",
       "      <th>2887</th>\n",
       "      <td>La experimentación, la libertad creativa y el ...</td>\n",
       "      <td>293</td>\n",
       "    </tr>\n",
       "    <tr>\n",
       "      <th>6473</th>\n",
       "      <td>Es una casa abierta, para ser explorada por el...</td>\n",
       "      <td>58</td>\n",
       "    </tr>\n",
       "    <tr>\n",
       "      <th>4148</th>\n",
       "      <td>Con el término cultura oriental, me refiero a ...</td>\n",
       "      <td>207</td>\n",
       "    </tr>\n",
       "    <tr>\n",
       "      <th>4897</th>\n",
       "      <td>En este sentido, la vida nocturna, los eventos...</td>\n",
       "      <td>206</td>\n",
       "    </tr>\n",
       "    <tr>\n",
       "      <th>247</th>\n",
       "      <td>), Abstract Art from the Río de la Plata.</td>\n",
       "      <td>41</td>\n",
       "    </tr>\n",
       "    <tr>\n",
       "      <th>5949</th>\n",
       "      <td>4.</td>\n",
       "      <td>2</td>\n",
       "    </tr>\n",
       "    <tr>\n",
       "      <th>2261</th>\n",
       "      <td>La numeración de los libros y su cantidad no r...</td>\n",
       "      <td>76</td>\n",
       "    </tr>\n",
       "    <tr>\n",
       "      <th>6101</th>\n",
       "      <td>Los elementos a los que recurre, tales como la...</td>\n",
       "      <td>274</td>\n",
       "    </tr>\n",
       "  </tbody>\n",
       "</table>\n",
       "</div>"
      ],
      "text/plain": [
       "                                                   sent  leng\n",
       "5962  Los estilos del grupo son variados, y Hélio ya...   106\n",
       "1860  En la segunda mitad del siglo XIX, el artista ...   115\n",
       "2887  La experimentación, la libertad creativa y el ...   293\n",
       "6473  Es una casa abierta, para ser explorada por el...    58\n",
       "4148  Con el término cultura oriental, me refiero a ...   207\n",
       "4897  En este sentido, la vida nocturna, los eventos...   206\n",
       "247           ), Abstract Art from the Río de la Plata.    41\n",
       "5949                                                 4.     2\n",
       "2261  La numeración de los libros y su cantidad no r...    76\n",
       "6101  Los elementos a los que recurre, tales como la...   274"
      ]
     },
     "execution_count": 24,
     "metadata": {},
     "output_type": "execute_result"
    }
   ],
   "source": [
    "sent_df.sample(n=10)"
   ]
  },
  {
   "cell_type": "code",
   "execution_count": 25,
   "id": "4fa1eecc-d921-4bf4-b528-b80e97500029",
   "metadata": {},
   "outputs": [],
   "source": [
    "len_threshold = 30\n",
    "mask = sent_df['leng'] < len_threshold"
   ]
  },
  {
   "cell_type": "code",
   "execution_count": 26,
   "id": "6a286eb3-bb70-4af2-9268-bc229f000cd9",
   "metadata": {},
   "outputs": [
    {
     "data": {
      "text/plain": [
       "sent    253\n",
       "leng    253\n",
       "dtype: int64"
      ]
     },
     "execution_count": 26,
     "metadata": {},
     "output_type": "execute_result"
    }
   ],
   "source": [
    "sent_df[mask].count()"
   ]
  },
  {
   "cell_type": "code",
   "execution_count": 27,
   "id": "1d4ec822-f2ec-439a-996d-4937aa2ef713",
   "metadata": {},
   "outputs": [
    {
     "data": {
      "text/html": [
       "<div>\n",
       "<style scoped>\n",
       "    .dataframe tbody tr th:only-of-type {\n",
       "        vertical-align: middle;\n",
       "    }\n",
       "\n",
       "    .dataframe tbody tr th {\n",
       "        vertical-align: top;\n",
       "    }\n",
       "\n",
       "    .dataframe thead th {\n",
       "        text-align: right;\n",
       "    }\n",
       "</style>\n",
       "<table border=\"1\" class=\"dataframe\">\n",
       "  <thead>\n",
       "    <tr style=\"text-align: right;\">\n",
       "      <th></th>\n",
       "      <th>sent</th>\n",
       "      <th>leng</th>\n",
       "    </tr>\n",
       "  </thead>\n",
       "  <tbody>\n",
       "    <tr>\n",
       "      <th>223</th>\n",
       "      <td>El móvil.</td>\n",
       "      <td>9</td>\n",
       "    </tr>\n",
       "    <tr>\n",
       "      <th>2215</th>\n",
       "      <td>Florent Fajole.</td>\n",
       "      <td>15</td>\n",
       "    </tr>\n",
       "    <tr>\n",
       "      <th>2977</th>\n",
       "      <td>Retrospectiva.</td>\n",
       "      <td>14</td>\n",
       "    </tr>\n",
       "    <tr>\n",
       "      <th>6587</th>\n",
       "      <td>9.</td>\n",
       "      <td>2</td>\n",
       "    </tr>\n",
       "    <tr>\n",
       "      <th>6977</th>\n",
       "      <td>6.</td>\n",
       "      <td>2</td>\n",
       "    </tr>\n",
       "    <tr>\n",
       "      <th>3296</th>\n",
       "      <td>4.</td>\n",
       "      <td>2</td>\n",
       "    </tr>\n",
       "    <tr>\n",
       "      <th>5171</th>\n",
       "      <td>¿muerto?</td>\n",
       "      <td>8</td>\n",
       "    </tr>\n",
       "    <tr>\n",
       "      <th>3877</th>\n",
       "      <td>2.</td>\n",
       "      <td>2</td>\n",
       "    </tr>\n",
       "    <tr>\n",
       "      <th>5531</th>\n",
       "      <td>Ibid., p. 47.\\n4.</td>\n",
       "      <td>16</td>\n",
       "    </tr>\n",
       "    <tr>\n",
       "      <th>2273</th>\n",
       "      <td>Cf. Gaze, Tim et.</td>\n",
       "      <td>17</td>\n",
       "    </tr>\n",
       "    <tr>\n",
       "      <th>5959</th>\n",
       "      <td>8.</td>\n",
       "      <td>2</td>\n",
       "    </tr>\n",
       "    <tr>\n",
       "      <th>2954</th>\n",
       "      <td>Retrospectiva.</td>\n",
       "      <td>14</td>\n",
       "    </tr>\n",
       "    <tr>\n",
       "      <th>6519</th>\n",
       "      <td>Solo vemos sus piernas.</td>\n",
       "      <td>23</td>\n",
       "    </tr>\n",
       "    <tr>\n",
       "      <th>3099</th>\n",
       "      <td>Retrospectiva.</td>\n",
       "      <td>14</td>\n",
       "    </tr>\n",
       "    <tr>\n",
       "      <th>2208</th>\n",
       "      <td>3.</td>\n",
       "      <td>2</td>\n",
       "    </tr>\n",
       "    <tr>\n",
       "      <th>3046</th>\n",
       "      <td>Retrospectiva.</td>\n",
       "      <td>14</td>\n",
       "    </tr>\n",
       "    <tr>\n",
       "      <th>332</th>\n",
       "      <td>Actuar desde el arte.</td>\n",
       "      <td>21</td>\n",
       "    </tr>\n",
       "    <tr>\n",
       "      <th>5428</th>\n",
       "      <td>No hay otra explicación.</td>\n",
       "      <td>24</td>\n",
       "    </tr>\n",
       "    <tr>\n",
       "      <th>1767</th>\n",
       "      <td>2.</td>\n",
       "      <td>2</td>\n",
       "    </tr>\n",
       "    <tr>\n",
       "      <th>3074</th>\n",
       "      <td>Retrospectiva.</td>\n",
       "      <td>14</td>\n",
       "    </tr>\n",
       "    <tr>\n",
       "      <th>1293</th>\n",
       "      <td>Boto, Martha, “Recherches.</td>\n",
       "      <td>26</td>\n",
       "    </tr>\n",
       "    <tr>\n",
       "      <th>1553</th>\n",
       "      <td>Abrigo, protección.</td>\n",
       "      <td>19</td>\n",
       "    </tr>\n",
       "    <tr>\n",
       "      <th>3145</th>\n",
       "      <td>Retrospectiva.</td>\n",
       "      <td>14</td>\n",
       "    </tr>\n",
       "    <tr>\n",
       "      <th>2241</th>\n",
       "      <td>2.</td>\n",
       "      <td>2</td>\n",
       "    </tr>\n",
       "    <tr>\n",
       "      <th>1470</th>\n",
       "      <td>Allí, así, valoré el agua\".</td>\n",
       "      <td>27</td>\n",
       "    </tr>\n",
       "    <tr>\n",
       "      <th>2157</th>\n",
       "      <td>No de forma consciente.</td>\n",
       "      <td>23</td>\n",
       "    </tr>\n",
       "    <tr>\n",
       "      <th>2044</th>\n",
       "      <td>El número junto a la piedra.</td>\n",
       "      <td>28</td>\n",
       "    </tr>\n",
       "    <tr>\n",
       "      <th>2724</th>\n",
       "      <td>Retrospectiva.</td>\n",
       "      <td>14</td>\n",
       "    </tr>\n",
       "    <tr>\n",
       "      <th>1440</th>\n",
       "      <td>3.</td>\n",
       "      <td>2</td>\n",
       "    </tr>\n",
       "    <tr>\n",
       "      <th>54</th>\n",
       "      <td>Cf. Alcida Rita Ramos.</td>\n",
       "      <td>22</td>\n",
       "    </tr>\n",
       "  </tbody>\n",
       "</table>\n",
       "</div>"
      ],
      "text/plain": [
       "                              sent  leng\n",
       "223                      El móvil.     9\n",
       "2215               Florent Fajole.    15\n",
       "2977                Retrospectiva.    14\n",
       "6587                            9.     2\n",
       "6977                            6.     2\n",
       "3296                            4.     2\n",
       "5171                      ¿muerto?     8\n",
       "3877                            2.     2\n",
       "5531             Ibid., p. 47.\\n4.    16\n",
       "2273             Cf. Gaze, Tim et.    17\n",
       "5959                            8.     2\n",
       "2954                Retrospectiva.    14\n",
       "6519       Solo vemos sus piernas.    23\n",
       "3099                Retrospectiva.    14\n",
       "2208                            3.     2\n",
       "3046                Retrospectiva.    14\n",
       "332          Actuar desde el arte.    21\n",
       "5428      No hay otra explicación.    24\n",
       "1767                            2.     2\n",
       "3074                Retrospectiva.    14\n",
       "1293    Boto, Martha, “Recherches.    26\n",
       "1553           Abrigo, protección.    19\n",
       "3145                Retrospectiva.    14\n",
       "2241                            2.     2\n",
       "1470   Allí, así, valoré el agua\".    27\n",
       "2157       No de forma consciente.    23\n",
       "2044  El número junto a la piedra.    28\n",
       "2724                Retrospectiva.    14\n",
       "1440                            3.     2\n",
       "54          Cf. Alcida Rita Ramos.    22"
      ]
     },
     "execution_count": 27,
     "metadata": {},
     "output_type": "execute_result"
    }
   ],
   "source": [
    "sent_df[mask].sample(n=30)"
   ]
  },
  {
   "cell_type": "code",
   "execution_count": 28,
   "id": "f1105430-5d2d-40fb-b892-e712e736d8df",
   "metadata": {},
   "outputs": [],
   "source": [
    "sent_df_long = sent_df[~mask]"
   ]
  },
  {
   "cell_type": "code",
   "execution_count": 29,
   "id": "f1d81bf7-d396-4215-86fe-3ddda3ba58f1",
   "metadata": {},
   "outputs": [],
   "source": [
    "sentences = sent_df_long.sent.values"
   ]
  },
  {
   "cell_type": "code",
   "execution_count": 30,
   "id": "fd6af447-aeca-4c41-bdd3-a3e66d520183",
   "metadata": {},
   "outputs": [
    {
     "data": {
      "text/plain": [
       "array(['La creación de instrumentos y las performances en conciertos también se sumaron a la nueva faceta que transitó el artista en aquellos años.',\n",
       "       'No obstante, creo conveniente tomar el nombre que tuvo en el libro Buenos Aires 1936, donde se publicó por primera vez.',\n",
       "       'Palmeiro, Cecilia, Desbunde y felicidad.',\n",
       "       'Los artefactos cinéticos tenían algunos puntos en común con los productos del diseño industrial.',\n",
       "       'Según los datos recogidos por la antropóloga Alcida Rita Ramos, solamente entre 1974 y 1975 una serie de enfermedades infecciosas mataron al 22% de la población de cuatro aldeas afectadas por las obras viales y, apenas dos años después, más del 50% de los habitantes de otras cuatro comunidades fallecieron debido a una epidemia de sarampión.',\n",
       "       'En primer lugar, su concepto de “luz astral”.',\n",
       "       'En esa ocasión, Jitrik había decidido renombrar sus pinturas con proclamas anarquistas que había recuperado durante los estudios que, desde 1995, realizaba en la Federación Libertaria Argentina.',\n",
       "       'Varios rasgos de la pieza se convertirían en motivos de exploración para la artista.',\n",
       "       'Además, La canción del final es la versión anterior de Fin de film, una obra realizada seis años después, que Macchi creó en coautoría con Edgardo Rudnitzky (músico con quien colabora con asiduidad y que participó, incluso, en la producción de Buenos Aires Tour (2003), otra de las obras de este artista que integran el acervo de Malba).',\n",
       "       'Luego de más de veinte años de alternar el arte con su profesión de ingeniero, fue con las heliografías que, irónicamente, deconstruyó de manera lúdica sus propios conocimientos sobre el perfeccionamiento y el raciocinio que el diseño de planos y la construcción requieren.',\n",
       "       'No obstante, Kuitca realizó proyectos escenográficos despojados en ocasiones puntuales, como para la obra La casa de Bernarda Alba, de Federico García Lorca, para el Teatro San Martín, en 2002, y, al año siguiente, El holandés errante, de Richard Wagner, para el escenario del Teatro Colón.',\n",
       "       'Texto de Sebastián Vidal Mackinson\\n\\xa0\\nNotas\\n1. Noorthoorn, Victoria, “Cinco tardes con Ricardo Garabito”, en Pacheco, Marcelo E., Ricardo Garabito, Buenos Aires, Editorial El Ateneo, 2007, pp. 310-311.\\n2. Ibid, p. 311.\\n3. Lebenglik, Fabián, “Un artista cada vez menos secreto” (en línea), Página/12, Cultura & Espectáculos, 15 de abril de 2014 (http://www.pagina12.com.ar/diario/suplementos/espectaculos/6-31912-2014-04-15.html) (consulta: 5 de julio de 2016).“Siempre me gustó el volumen”, aseveró Ricardo Garabito ante una pregunta sobre su relación con la práctica escultórica, su surgimiento y desarrollo en el corpus de su producción.1 Si bien su obsesión prioritaria ha sido la pintura, la incursión en el lenguaje escultórico es periódica, aunque está menos visibilizada.',\n",
       "       'Ibid., p. 273.El Coplanar nº 13 es una obra compuesta por tres piezas de madera unidas por varillas de acrílico transparente, colocadas directamente sobre el plano del muro.',\n",
       "       'La producción de las heliografías se realizaba en dos tiempos.',\n",
       "       'Dormitorios, comedores y oficinas con puertas, bidés, figuras humanas, árboles, camas, escaleras, inodoros, todos en una arbitraria distribución –obsesivamente reiterada– delineando los módulos del plano.',\n",
       "       'Revista Multidisciplinar de Ciencias Humanas, Rio de Janeiro, vol. I, nº 1, 2015, pp. 117-132.\\n3. Davis, Fernando, “Feliciano Centurión.',\n",
       "       'Un año después, el Colectivo se declaró en estado de latencia cuando esa transición democrática había culminado, al menos en varios aspectos esenciales.',\n",
       "       'Por otra parte, una vez liberadas, esas formas se reunían sobre la pared por medio de articulaciones que permitían el movimiento y, por lo tanto, se transformaban en cuadros-móviles disponibles para la intervención del espectador.',\n",
       "       'En este sentido, mediante una estética que se asienta en lo amateur, lo cotidiano y lo precario, el soporte (telgopor pintado en colores vivos e intervenido con brillantina) remite al mundo decorativo de las manualidades y, en particular, al cotillón de las fiestas infantiles, las bodas y los cumpleaños de quince.',\n",
       "       'Publicó ensayos sobre la cultura contemporánea y sobre psicoanálisis, así como escritos sobre el arte experimental asociado al pop y al happening.'],\n",
       "      dtype=object)"
      ]
     },
     "execution_count": 30,
     "metadata": {},
     "output_type": "execute_result"
    }
   ],
   "source": [
    "np.random.choice(sentences,size=20)"
   ]
  },
  {
   "cell_type": "markdown",
   "id": "44242c8f-5e23-45c2-9be2-e06d31c78d6e",
   "metadata": {},
   "source": [
    "# Tokenizamos y limpiamos un poco más"
   ]
  },
  {
   "cell_type": "code",
   "execution_count": 31,
   "id": "82dc18fd-326d-4803-8f01-faac6218d5f4",
   "metadata": {},
   "outputs": [],
   "source": [
    "nlp = spacy.load(\"es_core_news_sm\")"
   ]
  },
  {
   "cell_type": "code",
   "execution_count": 32,
   "id": "75d937ab-c02a-4742-96a2-4ae30da24c33",
   "metadata": {},
   "outputs": [],
   "source": [
    "def normalize(text):\n",
    "    text = text.lower()\n",
    "    # Quitamos los guiones y los reemplazamos por espacios\n",
    "    text = re.sub('-', ' ', text)\n",
    "    # Quitamos caracteres espaeciales excepto acentos y dieresis\n",
    "    text = re.sub('[^A-Za-z0-9  áéíóúÁÉÍÓÚüÜïÏÿñ]+', '', text)\n",
    "    return text\n",
    "\n",
    "def keep_token(token):\n",
    "    return t.isalpha()\n",
    "\n",
    "def tokenize(text):\n",
    "    tokens = text.split(' ')\n",
    "    return [t for t in tokens if t.isalpha()]"
   ]
  },
  {
   "cell_type": "code",
   "execution_count": 33,
   "id": "7f88f21c-dc61-486e-98d4-4fae0159fc3b",
   "metadata": {},
   "outputs": [],
   "source": [
    "sents_tokens = [tokenize(normalize(sent)) for sent in sentences]"
   ]
  },
  {
   "cell_type": "code",
   "execution_count": 34,
   "id": "8cc3873a-168c-4cf0-be4b-4afa5893757a",
   "metadata": {},
   "outputs": [
    {
     "data": {
      "text/plain": [
       "'Ejemplo paradigmático del artista global, ha observado y pensado las realidades metropolitanas de todo el mundo, ha hecho obras sobre fronteras y guerras, y también se ha fascinado con las formas y metáforas de ciertos fenómenos climáticos.'"
      ]
     },
     "execution_count": 34,
     "metadata": {},
     "output_type": "execute_result"
    }
   ],
   "source": [
    "sentences[2]"
   ]
  },
  {
   "cell_type": "code",
   "execution_count": 35,
   "id": "57c7a389-82c9-4129-95cc-1617453775dc",
   "metadata": {
    "tags": []
   },
   "outputs": [
    {
     "data": {
      "text/plain": [
       "['ejemplo',\n",
       " 'paradigmático',\n",
       " 'del',\n",
       " 'artista',\n",
       " 'global',\n",
       " 'ha',\n",
       " 'observado',\n",
       " 'y',\n",
       " 'pensado',\n",
       " 'las',\n",
       " 'realidades',\n",
       " 'metropolitanas',\n",
       " 'de',\n",
       " 'todo',\n",
       " 'el',\n",
       " 'mundo',\n",
       " 'ha',\n",
       " 'hecho',\n",
       " 'obras',\n",
       " 'sobre',\n",
       " 'fronteras',\n",
       " 'y',\n",
       " 'guerras',\n",
       " 'y',\n",
       " 'también',\n",
       " 'se',\n",
       " 'ha',\n",
       " 'fascinado',\n",
       " 'con',\n",
       " 'las',\n",
       " 'formas',\n",
       " 'y',\n",
       " 'metáforas',\n",
       " 'de',\n",
       " 'ciertos',\n",
       " 'fenómenos',\n",
       " 'climáticos']"
      ]
     },
     "execution_count": 35,
     "metadata": {},
     "output_type": "execute_result"
    }
   ],
   "source": [
    "sents_tokens[2]"
   ]
  },
  {
   "cell_type": "code",
   "execution_count": 36,
   "id": "b8d94442-7d16-401e-81c8-607075946da8",
   "metadata": {},
   "outputs": [],
   "source": [
    "sents_joined_tokens = [\" \".join(s) for s in sents_tokens]"
   ]
  },
  {
   "cell_type": "markdown",
   "id": "b49be202-28f3-4312-8076-22b841eb8341",
   "metadata": {},
   "source": [
    "# Triplas de dependencia"
   ]
  },
  {
   "cell_type": "code",
   "execution_count": 37,
   "id": "1970238c-1606-45f6-91ca-35fbab007b7a",
   "metadata": {},
   "outputs": [],
   "source": [
    "nlp = spacy.load(\"es_core_news_sm\")\n",
    "nlp.max_length = 2000000"
   ]
  },
  {
   "cell_type": "code",
   "execution_count": 38,
   "id": "9e57ae1d-bb09-440f-acfa-99f834b336d2",
   "metadata": {},
   "outputs": [],
   "source": [
    "doc = nlp(texto_limpio)"
   ]
  },
  {
   "cell_type": "code",
   "execution_count": 39,
   "id": "004cba37-4ecf-4f5f-99c7-e423d2ac79b7",
   "metadata": {},
   "outputs": [],
   "source": [
    "sent_threshold = 30"
   ]
  },
  {
   "cell_type": "code",
   "execution_count": 40,
   "id": "74e29242-41ac-4995-adcc-6785055c820b",
   "metadata": {},
   "outputs": [],
   "source": [
    "sents = [sent for sent in doc.sents if len(sent) > sent_threshold]\n",
    "\n",
    "words = []\n",
    "words_lemma = []\n",
    "for sent in sents:\n",
    "    for word in sent:\n",
    "        if word.is_alpha:\n",
    "            words.append(word)\n",
    "            words_lemma.append(word.lemma_)\n",
    "            \n",
    "counts = Counter(words_lemma)"
   ]
  },
  {
   "cell_type": "code",
   "execution_count": 41,
   "id": "1eb54771-348b-405b-b957-5062cf0ea0ef",
   "metadata": {},
   "outputs": [
    {
     "data": {
      "text/plain": [
       "13119"
      ]
     },
     "execution_count": 41,
     "metadata": {},
     "output_type": "execute_result"
    }
   ],
   "source": [
    "len(counts)"
   ]
  },
  {
   "cell_type": "code",
   "execution_count": 42,
   "id": "756a6487-e976-490b-ba15-e694fb921eb3",
   "metadata": {},
   "outputs": [],
   "source": [
    "def parse_tags(word):\n",
    "    tags = word.tag_[len(word.pos_) + 2:]\n",
    "    tags = tags.split(\"|\")\n",
    "    return tags\n",
    "\n",
    "lemma_file = open(\"clustering/lemmatization-es.txt\", \"r\")\n",
    "lemma_raw = lemma_file.read()\n",
    "lemma = lemma_raw.split(\"\\n\")"
   ]
  },
  {
   "cell_type": "code",
   "execution_count": 43,
   "id": "7c2f9c0b-cba9-4a16-9567-83adafdb2c34",
   "metadata": {
    "tags": []
   },
   "outputs": [
    {
     "data": {
      "text/plain": [
       "['1\\tprimer',\n",
       " '1\\tprimera',\n",
       " '1\\tprimeras',\n",
       " '1\\tprimero',\n",
       " '1\\tprimeros',\n",
       " '10\\tdécima',\n",
       " '10\\tdécimas',\n",
       " '10\\tdécimo',\n",
       " '10\\tdécimos',\n",
       " '100\\tcentésima',\n",
       " '100\\tcentésimas',\n",
       " '100\\tcentésimo',\n",
       " '100\\tcentésimos',\n",
       " '1000\\tmilésima',\n",
       " '1000\\tmilésimas',\n",
       " '1000\\tmilésimo',\n",
       " '1000\\tmilésimos',\n",
       " '10000\\tdiezmilésima',\n",
       " '10000\\tdiezmilésimas',\n",
       " '10000\\tdiezmilésimo',\n",
       " '10000\\tdiezmilésimos',\n",
       " '100000\\tcienmilésima',\n",
       " '100000\\tcienmilésimas',\n",
       " '100000\\tcienmilésimo',\n",
       " '100000\\tcienmilésimos',\n",
       " '1000000\\tmillonésima',\n",
       " '1000000\\tmillonésimas',\n",
       " '1000000\\tmillonésimo',\n",
       " '1000000\\tmillonésimos',\n",
       " '10000000\\tdiezmillonésima',\n",
       " '10000000\\tdiezmillonésimas',\n",
       " '10000000\\tdiezmillonésimo',\n",
       " '10000000\\tdiezmillonésimos',\n",
       " '100000000\\tcienmillonésima',\n",
       " '100000000\\tcienmillonésimas',\n",
       " '100000000\\tcienmillonésimo',\n",
       " '100000000\\tcienmillonésimos',\n",
       " '1000000000\\tmilmillonésima',\n",
       " '1000000000\\tmilmillonésimas',\n",
       " '1000000000\\tmilmillonésimo',\n",
       " '1000000000\\tmilmillonésimos',\n",
       " '10000000000\\tdiezmilmillonésima',\n",
       " '10000000000\\tdiezmilmillonésimas',\n",
       " '10000000000\\tdiezmilmillonésimo',\n",
       " '10000000000\\tdiezmilmillonésimos',\n",
       " '100000000000\\tcienmilmillonésima',\n",
       " '100000000000\\tcienmilmillonésimas',\n",
       " '100000000000\\tcienmilmillonésimo',\n",
       " '100000000000\\tcienmilmillonésimos',\n",
       " '1000000000000\\tbillonésima',\n",
       " '1000000000000\\tbillonésimas',\n",
       " '1000000000000\\tbillonésimo',\n",
       " '1000000000000\\tbillonésimos',\n",
       " '11\\tonceava',\n",
       " '11\\tonceavas',\n",
       " '11\\tonceavo',\n",
       " '11\\tonceavos',\n",
       " '11\\tundécima',\n",
       " '11\\tundécimas',\n",
       " '11\\tundécimo',\n",
       " '11\\tundécimos',\n",
       " '12\\tdoceava',\n",
       " '12\\tdoceavas',\n",
       " '12\\tdoceavo',\n",
       " '12\\tdoceavos',\n",
       " '12\\tduodécima',\n",
       " '12\\tduodécimas',\n",
       " '12\\tduodécimo',\n",
       " '12\\tduodécimos',\n",
       " '13\\tdecimotercera',\n",
       " '13\\tdecimoterceras',\n",
       " '13\\tdecimotercero',\n",
       " '13\\tdecimoterceros',\n",
       " '13\\ttreceava',\n",
       " '13\\ttreceavas',\n",
       " '13\\ttreceavo',\n",
       " '13\\ttreceavos',\n",
       " '13\\ttrecésima',\n",
       " '13\\ttrecésimas',\n",
       " '13\\ttrecésimo',\n",
       " '13\\ttrecésimos',\n",
       " '14\\tcatorceava',\n",
       " '14\\tcatorceavas',\n",
       " '14\\tcatorceavo',\n",
       " '14\\tcatorceavos',\n",
       " '14\\tdecimocuarta',\n",
       " '14\\tdecimocuartas',\n",
       " '14\\tdecimocuarto',\n",
       " '14\\tdecimocuartos',\n",
       " '15\\tdecimoquinta',\n",
       " '15\\tdecimoquintas',\n",
       " '15\\tdecimoquinto',\n",
       " '15\\tdecimoquintos',\n",
       " '15\\tquinceava',\n",
       " '15\\tquinceavas',\n",
       " '15\\tquinceavo',\n",
       " '15\\tquinceavos',\n",
       " '16\\tdecimosexta',\n",
       " '16\\tdecimosextas',\n",
       " '16\\tdecimosexto',\n",
       " '16\\tdecimosextos',\n",
       " '16\\tdieciseisava',\n",
       " '16\\tdieciseisavas',\n",
       " '16\\tdieciseisavo',\n",
       " '16\\tdieciseisavos',\n",
       " '17\\tdecimoséptima',\n",
       " '17\\tdecimoséptimas',\n",
       " '17\\tdecimoséptimo',\n",
       " '17\\tdecimoséptimos',\n",
       " '17\\tdiecisieteava',\n",
       " '17\\tdiecisieteavas',\n",
       " '17\\tdiecisieteavo',\n",
       " '17\\tdiecisieteavos',\n",
       " '18\\tdecimoctava',\n",
       " '18\\tdecimoctavas',\n",
       " '18\\tdecimoctavo',\n",
       " '18\\tdecimoctavos',\n",
       " '18\\tdieciochava',\n",
       " '18\\tdieciochavas',\n",
       " '18\\tdieciochavo',\n",
       " '18\\tdieciochavos',\n",
       " '18\\tdieciochoava',\n",
       " '18\\tdieciochoavas',\n",
       " '18\\tdieciochoavo',\n",
       " '18\\tdieciochoavos',\n",
       " '19\\tdecimonona',\n",
       " '19\\tdecimononas',\n",
       " '19\\tdecimonono',\n",
       " '19\\tdecimononos',\n",
       " '19\\tdecimonovena',\n",
       " '19\\tdecimonovenas',\n",
       " '19\\tdecimonoveno',\n",
       " '19\\tdecimonovenos',\n",
       " '19\\tdiecinueveava',\n",
       " '19\\tdiecinueveavas',\n",
       " '19\\tdiecinueveavo',\n",
       " '19\\tdiecinueveavos',\n",
       " '2\\tsegunda',\n",
       " '2\\tsegundas',\n",
       " '2\\tsegundo',\n",
       " '2\\tsegundos',\n",
       " '20\\tveintava',\n",
       " '20\\tveintavas',\n",
       " '20\\tveintavo',\n",
       " '20\\tveintavos',\n",
       " '20\\tveinteava',\n",
       " '20\\tveinteavas',\n",
       " '20\\tveinteavo',\n",
       " '20\\tveinteavos',\n",
       " '20\\tveintésima',\n",
       " '20\\tveintésimas',\n",
       " '20\\tveintésimo',\n",
       " '20\\tveintésimos',\n",
       " '20\\tvicésima',\n",
       " '20\\tvicésimas',\n",
       " '20\\tvicésimo',\n",
       " '20\\tvicésimos',\n",
       " '20\\tvigésima',\n",
       " '20\\tvigésimas',\n",
       " '20\\tvigésimo',\n",
       " '20\\tvigésimos',\n",
       " '200\\tdoscientosava',\n",
       " '200\\tdoscientosavas',\n",
       " '200\\tdoscientosavo',\n",
       " '200\\tdoscientosavos',\n",
       " '200\\tducentésima',\n",
       " '200\\tducentésimas',\n",
       " '200\\tducentésimo',\n",
       " '200\\tducentésimos',\n",
       " '21\\tveintiunava',\n",
       " '21\\tveintiunavas',\n",
       " '21\\tveintiunavo',\n",
       " '21\\tveintiunavos',\n",
       " '21\\tvigesimoprimera',\n",
       " '21\\tvigesimoprimeras',\n",
       " '21\\tvigesimoprimero',\n",
       " '21\\tvigesimoprimeros',\n",
       " '22\\tveintidosava',\n",
       " '22\\tveintidosavas',\n",
       " '22\\tveintidosavo',\n",
       " '22\\tveintidosavos',\n",
       " '22\\tvigesimosegunda',\n",
       " '22\\tvigesimosegundas',\n",
       " '22\\tvigesimosegundo',\n",
       " '22\\tvigesimosegundos',\n",
       " '23\\tveintitresava',\n",
       " '23\\tveintitresavas',\n",
       " '23\\tveintitresavo',\n",
       " '23\\tveintitresavos',\n",
       " '23\\tvigesimotercera',\n",
       " '23\\tvigesimoterceras',\n",
       " '23\\tvigesimotercero',\n",
       " '23\\tvigesimoterceros',\n",
       " '24\\tveinticuatroava',\n",
       " '24\\tveinticuatroavas',\n",
       " '24\\tveinticuatroavo',\n",
       " '24\\tveinticuatroavos',\n",
       " '24\\tvigesimocuarta',\n",
       " '24\\tvigesimocuartas',\n",
       " '24\\tvigesimocuarto',\n",
       " '24\\tvigesimocuartos',\n",
       " '25\\tveinticincoava',\n",
       " '25\\tveinticincoavas',\n",
       " '25\\tveinticincoavo',\n",
       " '25\\tveinticincoavos',\n",
       " '25\\tvigesimoquinta',\n",
       " '25\\tvigesimoquintas',\n",
       " '25\\tvigesimoquinto',\n",
       " '25\\tvigesimoquintos',\n",
       " '26\\tveintiseisava',\n",
       " '26\\tveintiseisavas',\n",
       " '26\\tveintiseisavo',\n",
       " '26\\tveintiseisavos',\n",
       " '26\\tvigesimosexta',\n",
       " '26\\tvigesimosextas',\n",
       " '26\\tvigesimosexto',\n",
       " '26\\tvigesimosextos',\n",
       " '27\\tveintisieteava',\n",
       " '27\\tveintisieteavas',\n",
       " '27\\tveintisieteavo',\n",
       " '27\\tveintisieteavos',\n",
       " '27\\tvigesimoséptima',\n",
       " '27\\tvigesimoséptimas',\n",
       " '27\\tvigesimoséptimo',\n",
       " '27\\tvigesimoséptimos',\n",
       " '28\\tveintiochava',\n",
       " '28\\tveintiochavas',\n",
       " '28\\tveintiochavo',\n",
       " '28\\tveintiochavos',\n",
       " '28\\tveintiochoava',\n",
       " '28\\tveintiochoavas',\n",
       " '28\\tveintiochoavo',\n",
       " '28\\tveintiochoavos',\n",
       " '28\\tvigesimoctava',\n",
       " '28\\tvigesimoctavas',\n",
       " '28\\tvigesimoctavo',\n",
       " '28\\tvigesimoctavos',\n",
       " '29\\tveintinueveava',\n",
       " '29\\tveintinueveavas',\n",
       " '29\\tveintinueveavo',\n",
       " '29\\tveintinueveavos',\n",
       " '29\\tvigesimonona',\n",
       " '29\\tvigesimononas',\n",
       " '29\\tvigesimonono',\n",
       " '29\\tvigesimononos',\n",
       " '29\\tvigesimonovena',\n",
       " '29\\tvigesimonovenas',\n",
       " '29\\tvigesimonoveno',\n",
       " '29\\tvigesimonovenos',\n",
       " '3\\ttercer',\n",
       " '3\\ttercera',\n",
       " '3\\tterceras',\n",
       " '3\\ttercero',\n",
       " '3\\tterceros',\n",
       " '30\\ttreintava',\n",
       " '30\\ttreintavas',\n",
       " '30\\ttreintavo',\n",
       " '30\\ttreintavos',\n",
       " '30\\ttricésima',\n",
       " '30\\ttricésimas',\n",
       " '30\\ttricésimo',\n",
       " '30\\ttricésimos',\n",
       " '30\\ttrigésima',\n",
       " '30\\ttrigésimas',\n",
       " '30\\ttrigésimo',\n",
       " '30\\ttrigésimos',\n",
       " '300\\ttrescientosava',\n",
       " '300\\ttrescientosavas',\n",
       " '300\\ttrescientosavo',\n",
       " '300\\ttrescientosavos',\n",
       " '300\\ttricentésima',\n",
       " '300\\ttricentésimas',\n",
       " '300\\ttricentésimo',\n",
       " '300\\ttricentésimos',\n",
       " '31\\ttreintaiunava',\n",
       " '31\\ttreintaiunavas',\n",
       " '31\\ttreintaiunavo',\n",
       " '31\\ttreintaiunavos',\n",
       " '31\\ttrigesimoprimera',\n",
       " '31\\ttrigesimoprimeras',\n",
       " '31\\ttrigesimoprimero',\n",
       " '31\\ttrigesimoprimeros',\n",
       " '32\\ttreintaidosava',\n",
       " '32\\ttreintaidosavas',\n",
       " '32\\ttreintaidosavo',\n",
       " '32\\ttreintaidosavos',\n",
       " '32\\ttrigesimosegunda',\n",
       " '32\\ttrigesimosegundas',\n",
       " '32\\ttrigesimosegundo',\n",
       " '32\\ttrigesimosegundos',\n",
       " '33\\ttreintaitresava',\n",
       " '33\\ttreintaitresavas',\n",
       " '33\\ttreintaitresavo',\n",
       " '33\\ttreintaitresavos',\n",
       " '34\\ttreintaicuatroava',\n",
       " '34\\ttreintaicuatroavas',\n",
       " '34\\ttreintaicuatroavo',\n",
       " '34\\ttreintaicuatroavos',\n",
       " '34\\ttrigesimocuarta',\n",
       " '34\\ttrigesimocuartas',\n",
       " '34\\ttrigesimocuarto',\n",
       " '34\\ttrigesimocuartos',\n",
       " '35\\ttreintaicincoava',\n",
       " '35\\ttreintaicincoavas',\n",
       " '35\\ttreintaicincoavo',\n",
       " '35\\ttreintaicincoavos',\n",
       " '35\\ttrigesimoquinta',\n",
       " '35\\ttrigesimoquintas',\n",
       " '35\\ttrigesimoquinto',\n",
       " '35\\ttrigesimoquintos',\n",
       " '36\\ttreintaiseisava',\n",
       " '36\\ttreintaiseisavas',\n",
       " '36\\ttreintaiseisavo',\n",
       " '36\\ttreintaiseisavos',\n",
       " '36\\ttrigesimosexta',\n",
       " '36\\ttrigesimosextas',\n",
       " '36\\ttrigesimosexto',\n",
       " '36\\ttrigesimosextos',\n",
       " '37\\ttreintaisieteava',\n",
       " '37\\ttreintaisieteavas',\n",
       " '37\\ttreintaisieteavo',\n",
       " '37\\ttreintaisieteavos',\n",
       " '37\\ttrigesimoséptima',\n",
       " '37\\ttrigesimoséptimas',\n",
       " '37\\ttrigesimoséptimo',\n",
       " '37\\ttrigesimoséptimos',\n",
       " '38\\ttreintaiochava',\n",
       " '38\\ttreintaiochavas',\n",
       " '38\\ttreintaiochavo',\n",
       " '38\\ttreintaiochavos',\n",
       " '38\\ttreintaiochoavas',\n",
       " '38\\ttreintaiochoavo',\n",
       " '38\\ttreintaiochoavos',\n",
       " '38\\ttrigesimoctava',\n",
       " '38\\ttrigesimoctavas',\n",
       " '38\\ttrigesimoctavo',\n",
       " '38\\ttrigesimoctavos',\n",
       " '39\\ttreintainueveava',\n",
       " '39\\ttreintainueveavas',\n",
       " '39\\ttreintainueveavo',\n",
       " '39\\ttreintainueveavos',\n",
       " '39\\ttrigesimonona',\n",
       " '39\\ttrigesimononas',\n",
       " '39\\ttrigesimonono',\n",
       " '39\\ttrigesimononos',\n",
       " '39\\ttrigesimonovena',\n",
       " '39\\ttrigesimonovenas',\n",
       " '39\\ttrigesimonoveno',\n",
       " '39\\ttrigesimonovenos',\n",
       " '4\\tcuarta',\n",
       " '4\\tcuartas',\n",
       " '4\\tcuarto',\n",
       " '4\\tcuartos',\n",
       " '40\\tcuadragésima',\n",
       " '40\\tcuadragésimas',\n",
       " '40\\tcuadragésimo',\n",
       " '40\\tcuadragésimos',\n",
       " '40\\tcuarentava',\n",
       " '40\\tcuarentavas',\n",
       " '40\\tcuarentavo',\n",
       " '40\\tcuarentavos',\n",
       " '400\\tcuadringentésima',\n",
       " '400\\tcuadringentésimas',\n",
       " '400\\tcuadringentésimo',\n",
       " '400\\tcuadringentésimos',\n",
       " '400\\tcuatrocientosava',\n",
       " '400\\tcuatrocientosavas',\n",
       " '400\\tcuatrocientosavo',\n",
       " '400\\tcuatrocientosavos',\n",
       " '41\\tcuadragesimoprimera',\n",
       " '41\\tcuadragesimoprimeras',\n",
       " '41\\tcuadragesimoprimero',\n",
       " '41\\tcuadragesimoprimeros',\n",
       " '41\\tcuarentaiunava',\n",
       " '41\\tcuarentaiunavas',\n",
       " '41\\tcuarentaiunavo',\n",
       " '41\\tcuarentaiunavos',\n",
       " '42\\tcuadragesimosegunda',\n",
       " '42\\tcuadragesimosegundas',\n",
       " '42\\tcuadragesimosegundo',\n",
       " '42\\tcuadragesimosegundos',\n",
       " '42\\tcuarentaidosava',\n",
       " '42\\tcuarentaidosavas',\n",
       " '42\\tcuarentaidosavo',\n",
       " '42\\tcuarentaidosavos',\n",
       " '43\\tcuadragesimotercera',\n",
       " '43\\tcuadragesimoterceras',\n",
       " '43\\tcuadragesimotercero',\n",
       " '43\\tcuadragesimoterceros',\n",
       " '43\\tcuarentaitresava',\n",
       " '43\\tcuarentaitresavas',\n",
       " '43\\tcuarentaitresavo',\n",
       " '43\\tcuarentaitresavos',\n",
       " '44\\tcuarentaicuatroava',\n",
       " '44\\tcuarentaicuatroavas',\n",
       " '44\\tcuarentaicuatroavo',\n",
       " '44\\tcuarentaicuatroavos',\n",
       " '45\\tcuadragesimoquinta',\n",
       " '45\\tcuadragesimoquintas',\n",
       " '45\\tcuadragesimoquinto',\n",
       " '45\\tcuadragesimoquintos',\n",
       " '45\\tcuarentaicincoava',\n",
       " '45\\tcuarentaicincoavas',\n",
       " '45\\tcuarentaicincoavo',\n",
       " '45\\tcuarentaicincoavos',\n",
       " '46\\tcuadragesimosexta',\n",
       " '46\\tcuadragesimosextas',\n",
       " '46\\tcuadragesimosexto',\n",
       " '46\\tcuadragesimosextos',\n",
       " '46\\tcuarentaiseisava',\n",
       " '46\\tcuarentaiseisavas',\n",
       " '46\\tcuarentaiseisavo',\n",
       " '46\\tcuarentaiseisavos',\n",
       " '47\\tcuadragesimoséptima',\n",
       " '47\\tcuadragesimoséptimas',\n",
       " '47\\tcuadragesimoséptimo',\n",
       " '47\\tcuadragesimoséptimos',\n",
       " '47\\tcuarentaisieteava',\n",
       " '47\\tcuarentaisieteavas',\n",
       " '47\\tcuarentaisieteavo',\n",
       " '47\\tcuarentaisieteavos',\n",
       " '48\\tcuadragesimoctava',\n",
       " '48\\tcuadragesimoctavas',\n",
       " '48\\tcuadragesimoctavo',\n",
       " '48\\tcuadragesimoctavos',\n",
       " '48\\tcuarentaiochava',\n",
       " '48\\tcuarentaiochavas',\n",
       " '48\\tcuarentaiochavo',\n",
       " '48\\tcuarentaiochavos',\n",
       " '48\\tcuarentaiochoava',\n",
       " '48\\tcuarentaiochoavas',\n",
       " '48\\tcuarentaiochoavo',\n",
       " '48\\tcuarentaiochoavos',\n",
       " '49\\tcuadragesimonona',\n",
       " '49\\tcuadragesimononas',\n",
       " '49\\tcuadragesimonono',\n",
       " '49\\tcuadragesimononos',\n",
       " '49\\tcuadragesimonovena',\n",
       " '49\\tcuadragesimonovenas',\n",
       " '49\\tcuadragesimonoveno',\n",
       " '49\\tcuadragesimonovenos',\n",
       " '49\\tcuarentainueveava',\n",
       " '49\\tcuarentainueveavas',\n",
       " '49\\tcuarentainueveavo',\n",
       " '49\\tcuarentainueveavos',\n",
       " '5\\tquinta',\n",
       " '5\\tquintas',\n",
       " '5\\tquinto',\n",
       " '5\\tquintos',\n",
       " '50\\tcincuentava',\n",
       " '50\\tcincuentavas',\n",
       " '50\\tcincuentavo',\n",
       " '50\\tcincuentavos',\n",
       " '50\\tcincuentésima',\n",
       " '50\\tcincuentésimas',\n",
       " '50\\tcincuentésimo',\n",
       " '50\\tcincuentésimos',\n",
       " '50\\tquincuagésima',\n",
       " '50\\tquincuagésimas',\n",
       " '50\\tquincuagésimo',\n",
       " '50\\tquincuagésimos',\n",
       " '500\\tquingentésima',\n",
       " '500\\tquingentésimas',\n",
       " '500\\tquingentésimo',\n",
       " '500\\tquingentésimos',\n",
       " '500\\tquinientosava',\n",
       " '500\\tquinientosavas',\n",
       " '500\\tquinientosavo',\n",
       " '500\\tquinientosavos',\n",
       " '51\\tcincuentaiunava',\n",
       " '51\\tcincuentaiunavas',\n",
       " '51\\tcincuentaiunavo',\n",
       " '51\\tcincuentaiunavos',\n",
       " '51\\tquincuagesimoprimera',\n",
       " '51\\tquincuagesimoprimeras',\n",
       " '51\\tquincuagesimoprimero',\n",
       " '51\\tquincuagesimoprimeros',\n",
       " '52\\tcincuentaidosava',\n",
       " '52\\tcincuentaidosavas',\n",
       " '52\\tcincuentaidosavo',\n",
       " '52\\tcincuentaidosavos',\n",
       " '52\\tquincuagesimosegunda',\n",
       " '52\\tquincuagesimosegundas',\n",
       " '52\\tquincuagesimosegundo',\n",
       " '52\\tquincuagesimosegundos',\n",
       " '53\\tcincuentaitresava',\n",
       " '53\\tcincuentaitresavas',\n",
       " '53\\tcincuentaitresavo',\n",
       " '53\\tcincuentaitresavos',\n",
       " '53\\tquincuagesimotercera',\n",
       " '53\\tquincuagesimoterceras',\n",
       " '53\\tquincuagesimotercero',\n",
       " '53\\tquincuagesimoterceros',\n",
       " '54\\tcincuentaicuatroava',\n",
       " '54\\tcincuentaicuatroavas',\n",
       " '54\\tcincuentaicuatroavo',\n",
       " '54\\tcincuentaicuatroavos',\n",
       " '54\\tquincuagesimocuarta',\n",
       " '54\\tquincuagesimocuartas',\n",
       " '54\\tquincuagesimocuarto',\n",
       " '54\\tquincuagesimocuartos',\n",
       " '55\\tcincuentaicincoava',\n",
       " '55\\tcincuentaicincoavas',\n",
       " '55\\tcincuentaicincoavo',\n",
       " '55\\tcincuentaicincoavos',\n",
       " '55\\tquincuagesimoquinta',\n",
       " '55\\tquincuagesimoquintas',\n",
       " '55\\tquincuagesimoquinto',\n",
       " '55\\tquincuagesimoquintos',\n",
       " '56\\tcincuentaiseisava',\n",
       " '56\\tcincuentaiseisavas',\n",
       " '56\\tcincuentaiseisavo',\n",
       " '56\\tcincuentaiseisavos',\n",
       " '56\\tquincuagesimosexta',\n",
       " '56\\tquincuagesimosextas',\n",
       " '56\\tquincuagesimosexto',\n",
       " '56\\tquincuagesimosextos',\n",
       " '57\\tcincuentaisieteava',\n",
       " '57\\tcincuentaisieteavas',\n",
       " '57\\tcincuentaisieteavo',\n",
       " '57\\tcincuentaisieteavos',\n",
       " '57\\tquincuagesimoséptima',\n",
       " '57\\tquincuagesimoséptimas',\n",
       " '57\\tquincuagesimoséptimo',\n",
       " '57\\tquincuagesimoséptimos',\n",
       " '58\\tcincuentaiochava',\n",
       " '58\\tcincuentaiochavas',\n",
       " '58\\tcincuentaiochavo',\n",
       " '58\\tcincuentaiochavos',\n",
       " '58\\tcincuentaiochoava',\n",
       " '58\\tcincuentaiochoavas',\n",
       " '58\\tcincuentaiochoavo',\n",
       " '58\\tcincuentaiochoavos',\n",
       " '58\\tquincuagesimoctava',\n",
       " '58\\tquincuagesimoctavas',\n",
       " '58\\tquincuagesimoctavo',\n",
       " '58\\tquincuagesimoctavos',\n",
       " '59\\tcincuentainueveava',\n",
       " '59\\tcincuentainueveavas',\n",
       " '59\\tcincuentainueveavo',\n",
       " '59\\tcincuentainueveavos',\n",
       " '59\\tquincuagesimonona',\n",
       " '59\\tquincuagesimononas',\n",
       " '59\\tquincuagesimonono',\n",
       " '59\\tquincuagesimononos',\n",
       " '59\\tquincuagesimonovena',\n",
       " '59\\tquincuagesimonovenas',\n",
       " '59\\tquincuagesimonoveno',\n",
       " '59\\tquincuagesimonovenos',\n",
       " '6\\tseisava',\n",
       " '6\\tseisavas',\n",
       " '6\\tseisavo',\n",
       " '6\\tseisavos',\n",
       " '6\\tsexta',\n",
       " '6\\tsextas',\n",
       " '6\\tsexto',\n",
       " '6\\tsextos',\n",
       " '60\\tsesentava',\n",
       " '60\\tsesentavas',\n",
       " '60\\tsesentavo',\n",
       " '60\\tsesentavos',\n",
       " '60\\tsexagésima',\n",
       " '60\\tsexagésimas',\n",
       " '60\\tsexagésimo',\n",
       " '60\\tsexagésimos',\n",
       " '600\\tseiscientosava',\n",
       " '600\\tseiscientosavas',\n",
       " '600\\tseiscientosavo',\n",
       " '600\\tseiscientosavos',\n",
       " '600\\tsexcentésima',\n",
       " '600\\tsexcentésimas',\n",
       " '600\\tsexcentésimo',\n",
       " '600\\tsexcentésimos',\n",
       " '61\\tsesentaiunava',\n",
       " '61\\tsesentaiunavas',\n",
       " '61\\tsesentaiunavo',\n",
       " '61\\tsesentaiunavos',\n",
       " '61\\tsexagesimoprimera',\n",
       " '61\\tsexagesimoprimeras',\n",
       " '61\\tsexagesimoprimero',\n",
       " '61\\tsexagesimoprimeros',\n",
       " '62\\tsesentaidosava',\n",
       " '62\\tsesentaidosavas',\n",
       " '62\\tsesentaidosavo',\n",
       " '62\\tsesentaidosavos',\n",
       " '62\\tsexagesimosegunda',\n",
       " '62\\tsexagesimosegundas',\n",
       " '62\\tsexagesimosegundo',\n",
       " '62\\tsexagesimosegundos',\n",
       " '63\\tsesentaitresava',\n",
       " '63\\tsesentaitresavas',\n",
       " '63\\tsesentaitresavo',\n",
       " '63\\tsesentaitresavos',\n",
       " '63\\tsexagesimotercera',\n",
       " '63\\tsexagesimoterceras',\n",
       " '63\\tsexagesimotercero',\n",
       " '63\\tsexagesimoterceros',\n",
       " '64\\tsesentaicuatroava',\n",
       " '64\\tsesentaicuatroavas',\n",
       " '64\\tsesentaicuatroavo',\n",
       " '64\\tsesentaicuatroavos',\n",
       " '64\\tsexagesimocuarta',\n",
       " '64\\tsexagesimocuartas',\n",
       " '64\\tsexagesimocuarto',\n",
       " '64\\tsexagesimocuartos',\n",
       " '65\\tsesentaicincoava',\n",
       " '65\\tsesentaicincoavas',\n",
       " '65\\tsesentaicincoavo',\n",
       " '65\\tsesentaicincoavos',\n",
       " '65\\tsexagesimoquinta',\n",
       " '65\\tsexagesimoquintas',\n",
       " '65\\tsexagesimoquinto',\n",
       " '65\\tsexagesimoquintos',\n",
       " '66\\tsesentaiseisava',\n",
       " '66\\tsesentaiseisavas',\n",
       " '66\\tsesentaiseisavo',\n",
       " '66\\tsesentaiseisavos',\n",
       " '66\\tsexagesimosexta',\n",
       " '66\\tsexagesimosextas',\n",
       " '66\\tsexagesimosexto',\n",
       " '66\\tsexagesimosextos',\n",
       " '67\\tsesentaisieteava',\n",
       " '67\\tsesentaisieteavas',\n",
       " '67\\tsesentaisieteavo',\n",
       " '67\\tsesentaisieteavos',\n",
       " '67\\tsexagesimoséptima',\n",
       " '67\\tsexagesimoséptimas',\n",
       " '67\\tsexagesimoséptimo',\n",
       " '67\\tsexagesimoséptimos',\n",
       " '68\\tsesentaiochava',\n",
       " '68\\tsesentaiochavas',\n",
       " '68\\tsesentaiochavo',\n",
       " '68\\tsesentaiochavos',\n",
       " '68\\tsesentaiochoava',\n",
       " '68\\tsesentaiochoavas',\n",
       " '68\\tsesentaiochoavo',\n",
       " '68\\tsesentaiochoavos',\n",
       " '68\\tsexagesimoctava',\n",
       " '68\\tsexagesimoctavas',\n",
       " '68\\tsexagesimoctavo',\n",
       " '68\\tsexagesimoctavos',\n",
       " '69\\tsesentainueveava',\n",
       " '69\\tsesentainueveavas',\n",
       " '69\\tsesentainueveavo',\n",
       " '69\\tsesentainueveavos',\n",
       " '69\\tsexagesimonona',\n",
       " '69\\tsexagesimononas',\n",
       " '69\\tsexagesimonono',\n",
       " '69\\tsexagesimononos',\n",
       " '69\\tsexagesimonovena',\n",
       " '69\\tsexagesimonovenas',\n",
       " '69\\tsexagesimonoveno',\n",
       " '69\\tsexagesimonovenos',\n",
       " '7\\tséptima',\n",
       " '7\\tséptimas',\n",
       " '7\\tséptimo',\n",
       " '7\\tséptimos',\n",
       " '7\\tsétima',\n",
       " '7\\tsétimas',\n",
       " '7\\tsétimo',\n",
       " '7\\tsétimos',\n",
       " '70\\tseptuagésima',\n",
       " '70\\tseptuagésimas',\n",
       " '70\\tseptuagésimo',\n",
       " '70\\tseptuagésimos',\n",
       " '70\\tsetentava',\n",
       " '70\\tsetentavas',\n",
       " '70\\tsetentavo',\n",
       " '70\\tsetentavos',\n",
       " '700\\tseptingentésima',\n",
       " '700\\tseptingentésimas',\n",
       " '700\\tseptingentésimo',\n",
       " '700\\tseptingentésimos',\n",
       " '700\\tsetecientosava',\n",
       " '700\\tsetecientosavas',\n",
       " '700\\tsetecientosavo',\n",
       " '700\\tsetecientosavos',\n",
       " '71\\tseptuagesimoprimera',\n",
       " '71\\tseptuagesimoprimeras',\n",
       " '71\\tseptuagesimoprimero',\n",
       " '71\\tseptuagesimoprimeros',\n",
       " '71\\tsetentaiunava',\n",
       " '71\\tsetentaiunavas',\n",
       " '71\\tsetentaiunavo',\n",
       " '71\\tsetentaiunavos',\n",
       " '72\\tseptuagesimosegunda',\n",
       " '72\\tseptuagesimosegundas',\n",
       " '72\\tseptuagesimosegundo',\n",
       " '72\\tseptuagesimosegundos',\n",
       " '72\\tsetentaidosava',\n",
       " '72\\tsetentaidosavas',\n",
       " '72\\tsetentaidosavo',\n",
       " '72\\tsetentaidosavos',\n",
       " '73\\tseptuagesimotercera',\n",
       " '73\\tseptuagesimoterceras',\n",
       " '73\\tseptuagesimotercero',\n",
       " '73\\tseptuagesimoterceros',\n",
       " '73\\tsetentaitresava',\n",
       " '73\\tsetentaitresavas',\n",
       " '73\\tsetentaitresavo',\n",
       " '73\\tsetentaitresavos',\n",
       " '74\\tseptuagesimocuarta',\n",
       " '74\\tseptuagesimocuartas',\n",
       " '74\\tseptuagesimocuarto',\n",
       " '74\\tseptuagesimocuartos',\n",
       " '74\\tsetentaicuatroava',\n",
       " '74\\tsetentaicuatroavas',\n",
       " '74\\tsetentaicuatroavo',\n",
       " '74\\tsetentaicuatroavos',\n",
       " '75\\tseptuagesimoquinta',\n",
       " '75\\tseptuagesimoquintas',\n",
       " '75\\tseptuagesimoquinto',\n",
       " '75\\tseptuagesimoquintos',\n",
       " '75\\tsetentaicincoava',\n",
       " '75\\tsetentaicincoavas',\n",
       " '75\\tsetentaicincoavo',\n",
       " '75\\tsetentaicincoavos',\n",
       " '76\\tseptuagesimosexta',\n",
       " '76\\tseptuagesimosextas',\n",
       " '76\\tseptuagesimosexto',\n",
       " '76\\tseptuagesimosextos',\n",
       " '76\\tsetentaiseisava',\n",
       " '76\\tsetentaiseisavas',\n",
       " '76\\tsetentaiseisavo',\n",
       " '76\\tsetentaiseisavos',\n",
       " '77\\tseptuagesimoséptima',\n",
       " '77\\tseptuagesimoséptimas',\n",
       " '77\\tseptuagesimoséptimo',\n",
       " '77\\tseptuagesimoséptimos',\n",
       " '77\\tsetentaisieteava',\n",
       " '77\\tsetentaisieteavas',\n",
       " '77\\tsetentaisieteavo',\n",
       " '77\\tsetentaisieteavos',\n",
       " '78\\tseptuagesimoctava',\n",
       " '78\\tseptuagesimoctavas',\n",
       " '78\\tseptuagesimoctavo',\n",
       " '78\\tseptuagesimoctavos',\n",
       " '78\\tsetentaiochava',\n",
       " '78\\tsetentaiochavas',\n",
       " '78\\tsetentaiochavo',\n",
       " '78\\tsetentaiochavos',\n",
       " '78\\tsetentaiochoava',\n",
       " '78\\tsetentaiochoavas',\n",
       " '78\\tsetentaiochoavo',\n",
       " '78\\tsetentaiochoavos',\n",
       " '79\\tseptuagesimonona',\n",
       " '79\\tseptuagesimononas',\n",
       " '79\\tseptuagesimonono',\n",
       " '79\\tseptuagesimononos',\n",
       " '79\\tseptuagesimonovena',\n",
       " '79\\tseptuagesimonovenas',\n",
       " '79\\tseptuagesimonoveno',\n",
       " '79\\tseptuagesimonovenos',\n",
       " '79\\tsetentainueveava',\n",
       " '79\\tsetentainueveavas',\n",
       " '79\\tsetentainueveavo',\n",
       " '79\\tsetentainueveavos',\n",
       " '8\\tochava',\n",
       " '8\\tochavas',\n",
       " '8\\tochavo',\n",
       " '8\\tochavos',\n",
       " '8\\toctava',\n",
       " '8\\toctavas',\n",
       " '8\\toctavo',\n",
       " '8\\toctavos',\n",
       " '80\\tochentava',\n",
       " '80\\tochentavas',\n",
       " '80\\tochentavo',\n",
       " '80\\tochentavos',\n",
       " '80\\toctagésima',\n",
       " '80\\toctagésimas',\n",
       " '80\\toctagésimo',\n",
       " '80\\toctagésimos',\n",
       " '80\\toctogésima',\n",
       " '80\\toctogésimas',\n",
       " '80\\toctogésimo',\n",
       " '80\\toctogésimos',\n",
       " '800\\tochocientosava',\n",
       " '800\\tochocientosavas',\n",
       " '800\\tochocientosavo',\n",
       " '800\\tochocientosavos',\n",
       " '800\\toctingentésima',\n",
       " '800\\toctingentésimas',\n",
       " '800\\toctingentésimo',\n",
       " '800\\toctingentésimos',\n",
       " '81\\tochentaiunava',\n",
       " '81\\tochentaiunavas',\n",
       " '81\\tochentaiunavo',\n",
       " '81\\tochentaiunavos',\n",
       " '81\\toctogesimoprimera',\n",
       " '81\\toctogesimoprimeras',\n",
       " '81\\toctogesimoprimero',\n",
       " '81\\toctogesimoprimeros',\n",
       " '82\\tochentaidosava',\n",
       " '82\\tochentaidosavas',\n",
       " '82\\tochentaidosavo',\n",
       " '82\\tochentaidosavos',\n",
       " '82\\toctogesimosegunda',\n",
       " '82\\toctogesimosegundas',\n",
       " '82\\toctogesimosegundo',\n",
       " '82\\toctogesimosegundos',\n",
       " '83\\tochentaitresava',\n",
       " '83\\tochentaitresavas',\n",
       " '83\\tochentaitresavo',\n",
       " '83\\tochentaitresavos',\n",
       " '83\\toctogesimotercera',\n",
       " '83\\toctogesimoterceras',\n",
       " '83\\toctogesimotercero',\n",
       " '83\\toctogesimoterceros',\n",
       " '84\\tochentaicuatroava',\n",
       " '84\\tochentaicuatroavas',\n",
       " '84\\tochentaicuatroavo',\n",
       " '84\\tochentaicuatroavos',\n",
       " '84\\toctogesimocuarta',\n",
       " '84\\toctogesimocuartas',\n",
       " '84\\toctogesimocuarto',\n",
       " '84\\toctogesimocuartos',\n",
       " '85\\toctogesimoquinta',\n",
       " '85\\toctogesimoquintas',\n",
       " '85\\toctogesimoquinto',\n",
       " '85\\toctogesimoquintos',\n",
       " '86\\tochentaiseisava',\n",
       " '86\\tochentaiseisavas',\n",
       " '86\\tochentaiseisavo',\n",
       " '86\\tochentaiseisavos',\n",
       " '86\\toctogesimosexta',\n",
       " '86\\toctogesimosextas',\n",
       " '86\\toctogesimosexto',\n",
       " '86\\toctogesimosextos',\n",
       " '87\\tochentaisieteava',\n",
       " '87\\tochentaisieteavas',\n",
       " '87\\tochentaisieteavo',\n",
       " '87\\tochentaisieteavos',\n",
       " '87\\toctogesimoséptima',\n",
       " '87\\toctogesimoséptimas',\n",
       " '87\\toctogesimoséptimo',\n",
       " '87\\toctogesimoséptimos',\n",
       " '88\\tochentaiochava',\n",
       " '88\\tochentaiochavas',\n",
       " '88\\tochentaiochavo',\n",
       " '88\\tochentaiochavos',\n",
       " '88\\tochentaiochoava',\n",
       " '88\\tochentaiochoavas',\n",
       " '88\\tochentaiochoavo',\n",
       " '88\\tochentaiochoavos',\n",
       " '88\\toctogesimoctava',\n",
       " '88\\toctogesimoctavas',\n",
       " '88\\toctogesimoctavo',\n",
       " '88\\toctogesimoctavos',\n",
       " '89\\tochentainueveava',\n",
       " '89\\tochentainueveavas',\n",
       " '89\\tochentainueveavo',\n",
       " '89\\tochentainueveavos',\n",
       " '89\\toctogesimonona',\n",
       " '89\\toctogesimononas',\n",
       " '89\\toctogesimonono',\n",
       " '89\\toctogesimononos',\n",
       " '89\\toctogesimonovena',\n",
       " '89\\toctogesimonovenas',\n",
       " '89\\toctogesimonoveno',\n",
       " '89\\toctogesimonovenos',\n",
       " '9\\tnovena',\n",
       " '9\\tnovenas',\n",
       " '9\\tnoveno',\n",
       " '9\\tnovenos',\n",
       " '90\\tnonagésima',\n",
       " '90\\tnonagésimas',\n",
       " '90\\tnonagésimo',\n",
       " '90\\tnonagésimos',\n",
       " '90\\tnoventava',\n",
       " '90\\tnoventavas',\n",
       " '90\\tnoventavo',\n",
       " '90\\tnoventavos',\n",
       " '900\\tnonigentésima',\n",
       " '900\\tnonigentésimas',\n",
       " '900\\tnonigentésimo',\n",
       " '900\\tnonigentésimos',\n",
       " '900\\tnoningentésima',\n",
       " '900\\tnoningentésimas',\n",
       " '900\\tnoningentésimo',\n",
       " '900\\tnoningentésimos',\n",
       " '900\\tnovecientosava',\n",
       " '900\\tnovecientosavas',\n",
       " '900\\tnovecientosavo',\n",
       " '900\\tnovecientosavos',\n",
       " '91\\tnonagesimoprimera',\n",
       " '91\\tnonagesimoprimeras',\n",
       " '91\\tnonagesimoprimero',\n",
       " '91\\tnonagesimoprimeros',\n",
       " '91\\tnoventaiunava',\n",
       " '91\\tnoventaiunavas',\n",
       " '91\\tnoventaiunavo',\n",
       " '91\\tnoventaiunavos',\n",
       " '92\\tnonagesimosegunda',\n",
       " '92\\tnonagesimosegundas',\n",
       " '92\\tnonagesimosegundo',\n",
       " '92\\tnonagesimosegundos',\n",
       " '92\\tnoventaidosava',\n",
       " '92\\tnoventaidosavas',\n",
       " '92\\tnoventaidosavo',\n",
       " '92\\tnoventaidosavos',\n",
       " '93\\tnonagesimotercera',\n",
       " '93\\tnonagesimoterceras',\n",
       " '93\\tnonagesimotercero',\n",
       " '93\\tnonagesimoterceros',\n",
       " '93\\tnoventaitresava',\n",
       " '93\\tnoventaitresavas',\n",
       " '93\\tnoventaitresavo',\n",
       " '93\\tnoventaitresavos',\n",
       " '94\\tnonagesimocuarta',\n",
       " '94\\tnonagesimocuartas',\n",
       " '94\\tnonagesimocuarto',\n",
       " '94\\tnonagesimocuartos',\n",
       " '94\\tnoventaicuatroava',\n",
       " '94\\tnoventaicuatroavas',\n",
       " '94\\tnoventaicuatroavo',\n",
       " '94\\tnoventaicuatroavos',\n",
       " '95\\tnonagesimoquinta',\n",
       " '95\\tnonagesimoquintas',\n",
       " '95\\tnonagesimoquinto',\n",
       " '95\\tnonagesimoquintos',\n",
       " '95\\tnoventaicincoava',\n",
       " '95\\tnoventaicincoavas',\n",
       " '95\\tnoventaicincoavo',\n",
       " '95\\tnoventaicincoavos',\n",
       " '95\\tochentaicincoava',\n",
       " '95\\tochentaicincoavas',\n",
       " '95\\tochentaicincoavo',\n",
       " '95\\tochentaicincoavos',\n",
       " '96\\tnonagesimosexta',\n",
       " '96\\tnonagesimosextas',\n",
       " '96\\tnonagesimosexto',\n",
       " '96\\tnonagesimosextos',\n",
       " '96\\tnoventaiseisava',\n",
       " '96\\tnoventaiseisavas',\n",
       " '96\\tnoventaiseisavo',\n",
       " '96\\tnoventaiseisavos',\n",
       " '97\\tnonagesimoséptima',\n",
       " '97\\tnonagesimoséptimas',\n",
       " '97\\tnonagesimoséptimo',\n",
       " '97\\tnonagesimoséptimos',\n",
       " '97\\tnoventaisieteava',\n",
       " '97\\tnoventaisieteavas',\n",
       " '97\\tnoventaisieteavo',\n",
       " '97\\tnoventaisieteavos',\n",
       " '98\\tnonagesimoctava',\n",
       " '98\\tnonagesimoctavas',\n",
       " '98\\tnonagesimoctavo',\n",
       " '98\\tnonagesimoctavos',\n",
       " '98\\tnoventaiochava',\n",
       " '98\\tnoventaiochavas',\n",
       " '98\\tnoventaiochavo',\n",
       " '98\\tnoventaiochavos',\n",
       " '98\\tnoventaiochoava',\n",
       " '98\\tnoventaiochoavas',\n",
       " '98\\tnoventaiochoavo',\n",
       " '98\\tnoventaiochoavos',\n",
       " '99\\tnonagesimonona',\n",
       " '99\\tnonagesimononas',\n",
       " '99\\tnonagesimonono',\n",
       " '99\\tnonagesimononos',\n",
       " '99\\tnonagesimonovena',\n",
       " '99\\tnonagesimonovenas',\n",
       " '99\\tnonagesimonoveno',\n",
       " '99\\tnonagesimonovenos',\n",
       " '99\\tnoventainueveava',\n",
       " '99\\tnoventainueveavas',\n",
       " '99\\tnoventainueveavo',\n",
       " '99\\tnoventainueveavos',\n",
       " 'a\\taes',\n",
       " 'ababa\\tababas',\n",
       " 'ababábite\\tababábites',\n",
       " 'ababán\\tababanes',\n",
       " 'ababol\\tababoles',\n",
       " 'abacá\\tabacás',\n",
       " 'abacería\\tabacerías',\n",
       " 'abacero\\tabacera',\n",
       " 'abacero\\tabaceras',\n",
       " 'abacero\\tabaceros',\n",
       " 'abacial\\tabaciales',\n",
       " 'ábaco\\tábacos',\n",
       " 'abad\\tabades',\n",
       " 'abada\\tabadas',\n",
       " 'abadejo\\tabadejos',\n",
       " 'abadengo\\tabadenga',\n",
       " 'abadengo\\tabadengas',\n",
       " 'abadengo\\tabadengos',\n",
       " 'abadesa\\tabadesas',\n",
       " 'abadía\\tabadías',\n",
       " 'abadiado\\tabadiados',\n",
       " 'abadiato\\tabadiatos',\n",
       " 'abajadero\\tabajaderos',\n",
       " 'abajamiento\\tabajamientos',\n",
       " 'abajar\\tabaja',\n",
       " 'abajar\\tabajaba',\n",
       " 'abajar\\tabajabais',\n",
       " 'abajar\\tabajábamos',\n",
       " 'abajar\\tabajaban',\n",
       " 'abajar\\tabajabas',\n",
       " 'abajar\\tabajad',\n",
       " ...]"
      ]
     },
     "execution_count": 43,
     "metadata": {},
     "output_type": "execute_result"
    }
   ],
   "source": [
    "lemma"
   ]
  },
  {
   "cell_type": "code",
   "execution_count": 44,
   "id": "9547d1b6-b6ef-4159-a700-72228c1bf582",
   "metadata": {},
   "outputs": [],
   "source": [
    "lemma_dict = {}\n",
    "for pair in lemma:\n",
    "    w = pair.split(\"\\t\")\n",
    "    if len(w) == 2:\n",
    "        lemma_dict[w[1]] = w[0]"
   ]
  },
  {
   "cell_type": "code",
   "execution_count": 45,
   "id": "d16ac3d2-b5dd-47ef-9174-acbe3fdfdcb0",
   "metadata": {},
   "outputs": [],
   "source": [
    "def lemmatize(word):\n",
    "    if word in lemma_dict:\n",
    "        word = lemma_dict[word]\n",
    "    return word"
   ]
  },
  {
   "cell_type": "code",
   "execution_count": 46,
   "id": "24bd52b7-5ecf-4532-9f6c-968d564daf1c",
   "metadata": {},
   "outputs": [
    {
     "data": {
      "text/plain": [
       "184933"
      ]
     },
     "execution_count": 46,
     "metadata": {},
     "output_type": "execute_result"
    }
   ],
   "source": [
    "len(words)"
   ]
  },
  {
   "cell_type": "code",
   "execution_count": 47,
   "id": "2b472abf-092e-447f-895f-d6641a24f2ce",
   "metadata": {},
   "outputs": [],
   "source": [
    "# Crear diccionario\n",
    "dicc = {}\n",
    "list_dicc = {}\n",
    "word_id = 0\n",
    "threshold_w = 3\n",
    "threshold_c = 1\n",
    "\n",
    "for word in words:\n",
    "    w = lemmatize(word.lemma_)\n",
    "    if not word.is_alpha or str.isdigit(w) or counts[w] < threshold_w:\n",
    "        continue\n",
    "    if not w in dicc:\n",
    "        features = {}\n",
    "    else:\n",
    "        features = dicc[w]\n",
    "\n",
    "    pos = \"POS__\" + word.pos_\n",
    "    if not pos in features:\n",
    "        features[pos] = 0\n",
    "    features[pos] += 1\n",
    "\n",
    "    dep = \"DEP__\" + word.dep_\n",
    "    if not dep in features:\n",
    "        features[dep] = 0\n",
    "    features[dep] += 1\n",
    "\n",
    "    tags = parse_tags(word)\n",
    "    for tag in tags:\n",
    "        if not tag in features:\n",
    "            features[tag] = 0\n",
    "        features[tag] += 1\n",
    "\n",
    "    if not word.i == 0:\n",
    "        context_izq = doc[word.i - 1]\n",
    "        c_izq = lemmatize(context_izq.lemma_)\n",
    "        if context_izq.is_alpha and counts[c_izq] > threshold_c:\n",
    "            if str.isdigit(c_izq):\n",
    "                c_izq = \"NUM__\"\n",
    "            if not c_izq in features:\n",
    "                features[c_izq] = 0\n",
    "            features[c_izq] += 1\n",
    "\n",
    "    if not word.i < len(doc):\n",
    "        context_der = doc[word.i + 1]\n",
    "        c_der = lemmatize(context_der.lemma_)\n",
    "        if context_der.is_alpha and counts[c_der] > threshold_c:\n",
    "            if str.isdigit(c_der):\n",
    "                c_der = \"NUM__\"\n",
    "            if not c_der in features:\n",
    "                features[c_der] = 0\n",
    "            features[c_der] += 1\n",
    "\n",
    "    tripla = \"TRIPLA__\" + w + \"__\" + word.lemma_ + \"__\" + word.dep_ + \"__\" + lemmatize(word.head.lemma_)\n",
    "    if not tripla in features:\n",
    "        features[tripla] = 0\n",
    "    features[tripla] += 1\n",
    "\n",
    "    word_id += 1\n",
    "\n",
    "    dicc[w] = features"
   ]
  },
  {
   "cell_type": "code",
   "execution_count": 48,
   "id": "dca6e540-17a0-4f96-8445-af1981e4ab4b",
   "metadata": {},
   "outputs": [
    {
     "data": {
      "text/plain": [
       "4923"
      ]
     },
     "execution_count": 48,
     "metadata": {},
     "output_type": "execute_result"
    }
   ],
   "source": [
    "len(dicc)"
   ]
  },
  {
   "cell_type": "code",
   "execution_count": 49,
   "id": "28b32ddb-9163-461c-81d8-14e49a262987",
   "metadata": {},
   "outputs": [],
   "source": [
    "features = []\n",
    "key_words = {}\n",
    "wid = 0\n",
    "for d in dicc:\n",
    "    if len(d) > 0:\n",
    "        key_words[d] = wid\n",
    "        wid += 1\n",
    "        features.append(dicc[d])"
   ]
  },
  {
   "cell_type": "code",
   "execution_count": 50,
   "id": "cf375685-962b-43c1-80bf-a0b7f71fe6cc",
   "metadata": {},
   "outputs": [
    {
     "data": {
      "text/plain": [
       "4923"
      ]
     },
     "execution_count": 50,
     "metadata": {},
     "output_type": "execute_result"
    }
   ],
   "source": [
    "len(features)"
   ]
  },
  {
   "cell_type": "code",
   "execution_count": 51,
   "id": "0119bb0d-948f-445e-a50b-da94dc372680",
   "metadata": {},
   "outputs": [],
   "source": [
    "from sklearn.feature_extraction import DictVectorizer\n",
    "v = DictVectorizer(sparse=False)\n",
    "matrix = v.fit_transform(features)"
   ]
  },
  {
   "cell_type": "code",
   "execution_count": 52,
   "id": "650a399e-a88f-43c3-99ec-a40b47d6e5e8",
   "metadata": {},
   "outputs": [
    {
     "data": {
      "text/plain": [
       "(4923, 81066)"
      ]
     },
     "execution_count": 52,
     "metadata": {},
     "output_type": "execute_result"
    }
   ],
   "source": [
    "matrix.shape"
   ]
  },
  {
   "cell_type": "code",
   "execution_count": 53,
   "id": "bbb51d9d-4b4f-460a-8d44-5c7190420708",
   "metadata": {},
   "outputs": [],
   "source": [
    "matrix_normed = matrix / matrix.max(axis=0)"
   ]
  },
  {
   "cell_type": "code",
   "execution_count": 54,
   "id": "2a62c4ba-49b2-4bbc-9f23-aa85bc80c78d",
   "metadata": {},
   "outputs": [],
   "source": [
    "variances = np.square(matrix_normed).mean(axis=0) - np.square(matrix_normed.mean(axis=0))"
   ]
  },
  {
   "cell_type": "code",
   "execution_count": 55,
   "id": "5547c564-a9b4-4038-968c-b3de00e86056",
   "metadata": {},
   "outputs": [],
   "source": [
    "threshold_v = 0.001\n",
    "red_matrix = np.delete(matrix_normed, np.where(variances < threshold_v), axis=1)"
   ]
  },
  {
   "cell_type": "code",
   "execution_count": 56,
   "id": "50e447f2-ecac-4b6c-8dd6-b4116805ad00",
   "metadata": {},
   "outputs": [
    {
     "data": {
      "text/plain": [
       "(4923, 154)"
      ]
     },
     "execution_count": 56,
     "metadata": {},
     "output_type": "execute_result"
    }
   ],
   "source": [
    "red_matrix.shape"
   ]
  },
  {
   "cell_type": "code",
   "execution_count": 57,
   "id": "97bcbc06-302d-4995-947a-e258d89f4f2a",
   "metadata": {},
   "outputs": [
    {
     "data": {
      "text/plain": [
       "(4923, 81066)"
      ]
     },
     "execution_count": 57,
     "metadata": {},
     "output_type": "execute_result"
    }
   ],
   "source": [
    "matrix_normed.shape"
   ]
  },
  {
   "cell_type": "code",
   "execution_count": 58,
   "id": "6aedb643-247c-4b10-9712-54f3a03de9e9",
   "metadata": {},
   "outputs": [],
   "source": [
    "tsne = sklearn.manifold.TSNE(n_components=2, random_state=0)\n",
    "matrix_dicc2d = tsne.fit_transform(red_matrix)"
   ]
  },
  {
   "cell_type": "code",
   "execution_count": 59,
   "id": "b55579a5-f252-4175-b937-57380c490336",
   "metadata": {},
   "outputs": [],
   "source": [
    "\n",
    "pointsspacy = pd.DataFrame(\n",
    "    [\n",
    "        (word, coords[0], coords[1])\n",
    "        for word, coords in [\n",
    "            (word, matrix_dicc2d[key_words[word]])\n",
    "            for word in key_words\n",
    "        ]\n",
    "    ],\n",
    "    columns=[\"word\", \"x\", \"y\"]\n",
    ")"
   ]
  },
  {
   "cell_type": "code",
   "execution_count": 60,
   "id": "d854c9d9-df54-47e5-945d-b205aadddeca",
   "metadata": {},
   "outputs": [
    {
     "data": {
      "text/plain": [
       "<matplotlib.axes._subplots.AxesSubplot at 0x7f4d063b4610>"
      ]
     },
     "execution_count": 60,
     "metadata": {},
     "output_type": "execute_result"
    },
    {
     "data": {
      "image/png": "[encoded data removed]",
      "text/plain": [
       "<Figure size 1440x864 with 1 Axes>"
      ]
     },
     "metadata": {
      "needs_background": "light"
     },
     "output_type": "display_data"
    }
   ],
   "source": [
    "\n",
    "pointsspacy.plot.scatter(\"x\", \"y\", s=20, figsize=(20, 12))"
   ]
  },
  {
   "cell_type": "code",
   "execution_count": 61,
   "id": "5aefd087-bacf-489b-843d-3a89141f7f2d",
   "metadata": {},
   "outputs": [],
   "source": [
    "def plot_region(x_bounds, y_bounds):\n",
    "    slice = pointsspacy[\n",
    "        (x_bounds[0] <= pointsspacy.x) &\n",
    "        (pointsspacy.x <= x_bounds[1]) & \n",
    "        (y_bounds[0] <= pointsspacy.y) &\n",
    "        (pointsspacy.y <= y_bounds[1])\n",
    "    ]\n",
    "    \n",
    "    ax = slice.plot.scatter(x='x', y='y', s=35, figsize=(20, 8))\n",
    "    for i, point in slice.iterrows():\n",
    "        ax.text(point.x + 0.005, point.y + 0.005, point.word, fontsize=11)"
   ]
  },
  {
   "cell_type": "code",
   "execution_count": 62,
   "id": "9a126ce7-e1c3-4c86-a9cf-e89aaf143621",
   "metadata": {},
   "outputs": [
    {
     "data": {
      "image/png": "[encoded data removed]",
      "text/plain": [
       "<Figure size 1440x576 with 1 Axes>"
      ]
     },
     "metadata": {
      "needs_background": "light"
     },
     "output_type": "display_data"
    }
   ],
   "source": [
    "plot_region(x_bounds=(-10, 10), y_bounds=(10, 40))"
   ]
  },
  {
   "cell_type": "code",
   "execution_count": 63,
   "id": "95474c93-5011-436e-b30c-ad22576db8c1",
   "metadata": {},
   "outputs": [],
   "source": [
    "def clustering(k):\n",
    "    clusterer = kmeans.KMeansClusterer(k, cosine_distance, avoid_empty_clusters=True)\n",
    "    clusters = clusterer.cluster(red_matrix, True)\n",
    "    return clusters"
   ]
  },
  {
   "cell_type": "code",
   "execution_count": null,
   "id": "64250f8b-0086-4e9c-a1b0-f67e3f54c639",
   "metadata": {},
   "outputs": [
    {
     "name": "stderr",
     "output_type": "stream",
     "text": [
      "/home/work/anaconda3/lib/python3.8/site-packages/nltk/cluster/util.py:131: RuntimeWarning: invalid value encountered in double_scalars\n",
      "  return 1 - (numpy.dot(u, v) / (sqrt(numpy.dot(u, u)) * sqrt(numpy.dot(v, v))))\n"
     ]
    }
   ],
   "source": [
    "c50 =  clustering(50)\n",
    "c100 = clustering(100)\n",
    "c150 = clustering(150)"
   ]
  },
  {
   "cell_type": "code",
   "execution_count": null,
   "id": "db568411-cb5e-4cf0-b145-2a281717a475",
   "metadata": {},
   "outputs": [],
   "source": [
    "filename = \"trained/lavoz_cluster50.pickle\"\n",
    "fileObj = open(filename, 'wb')\n",
    "pickle.dump(c50, fileObj)\n",
    "fileObj.close()"
   ]
  },
  {
   "cell_type": "code",
   "execution_count": null,
   "id": "e922db3b-4546-4855-8ba2-989054c3dc76",
   "metadata": {},
   "outputs": [],
   "source": [
    "filename = \"trained/lavoz_cluster100.pickle\"\n",
    "fileObj = open(filename, 'wb')\n",
    "pickle.dump(c100, fileObj)\n",
    "fileObj.close()"
   ]
  },
  {
   "cell_type": "code",
   "execution_count": null,
   "id": "848a4b40-9279-4e9e-82e0-7f877453130b",
   "metadata": {},
   "outputs": [],
   "source": [
    "filename = \"trained/lavoz_cluster150.pickle\"\n",
    "fileObj = open(filename, 'wb')\n",
    "pickle.dump(c150, fileObj)\n",
    "fileObj.close()"
   ]
  },
  {
   "cell_type": "code",
   "execution_count": null,
   "id": "758283ca-fe0c-4a84-9593-3b29c6e2b7c5",
   "metadata": {},
   "outputs": [],
   "source": [
    "filename = \"trained/lavoz_cluster100.pickle\"\n",
    "with open(filename, 'rb') as f:\n",
    "    clusters = pickle.load(f)"
   ]
  },
  {
   "cell_type": "code",
   "execution_count": null,
   "id": "0c75e4c6-8662-4263-8905-d13e50d56407",
   "metadata": {},
   "outputs": [],
   "source": [
    "pointscluster = pd.DataFrame(\n",
    "    [\n",
    "        (word, coords[0], coords[1], cluster)\n",
    "        for word, coords, cluster in [\n",
    "            (word, matrix_dicc2d[key_words[word]], clusters[key_words[word]])\n",
    "            for word in key_words\n",
    "        ]\n",
    "    ],\n",
    "    columns=[\"word\", \"x\", \"y\", \"c\"]\n",
    ")"
   ]
  },
  {
   "cell_type": "code",
   "execution_count": null,
   "id": "44698cd8-3568-41e5-9357-4a69e85bcbc1",
   "metadata": {},
   "outputs": [],
   "source": [
    "pointscluster.plot.scatter(x='x', y='y', c='c', cmap='viridis', s=10, figsize=(20, 12))"
   ]
  },
  {
   "cell_type": "code",
   "execution_count": null,
   "id": "112338c9-cd2b-440e-af36-2c0641da77bf",
   "metadata": {},
   "outputs": [],
   "source": [
    "def plot_region_cluster(x_bounds, y_bounds):\n",
    "    slice = pointscluster[\n",
    "        (x_bounds[0] <= pointscluster.x) &\n",
    "        (pointscluster.x <= x_bounds[1]) & \n",
    "        (y_bounds[0] <= pointscluster.y) &\n",
    "        (pointscluster.y <= y_bounds[1])\n",
    "    ]\n",
    "    \n",
    "    ax = slice.plot.scatter(x='x', y='y', c='c', cmap='viridis', s=35, figsize=(10, 8))\n",
    "    for i, point in slice.iterrows():\n",
    "        ax.text(point.x + 0.005, point.y + 0.005, point.word, fontsize=11)"
   ]
  },
  {
   "cell_type": "markdown",
   "id": "931b041f-5b4c-4f1f-8893-764d211aef2b",
   "metadata": {},
   "source": [
    "# Word2vec"
   ]
  },
  {
   "cell_type": "code",
   "execution_count": null,
   "id": "0d9f14ba-ecd6-40e1-bd7f-3a7398232833",
   "metadata": {},
   "outputs": [],
   "source": [
    "np.mean([len(s) for s in sents_tokens])"
   ]
  },
  {
   "cell_type": "code",
   "execution_count": null,
   "id": "59c2bb29-bbd9-4f82-b508-9c8c2a1d55cd",
   "metadata": {},
   "outputs": [],
   "source": [
    "windows_size = 7\n",
    "vector_size = 40\n",
    "min_count = 2\n",
    "epochs = 200\n",
    "w2v_model = Word2Vec(sents_tokens, size=vector_size, window=windows_size, min_count=min_count,iter=epochs, workers=4, seed=1)\n",
    "w2v_model.save(f\"word2vec_size={vector_size}__window={windows_size}__min_count={min_count}__epochs={epochs}.model\")"
   ]
  },
  {
   "cell_type": "code",
   "execution_count": null,
   "id": "d2f05692-db51-4c68-b398-168733e3734c",
   "metadata": {},
   "outputs": [],
   "source": [
    "len(w2v_model.wv.index2word)"
   ]
  },
  {
   "cell_type": "code",
   "execution_count": null,
   "id": "163c188f-f4e7-4789-8233-3832e0992635",
   "metadata": {},
   "outputs": [],
   "source": [
    "w2v_model.wv.most_similar('animal',topn=10)"
   ]
  },
  {
   "cell_type": "code",
   "execution_count": null,
   "id": "2c0867af-d478-449a-8029-ff9cfe9aa3a1",
   "metadata": {},
   "outputs": [],
   "source": [
    "w2v = WordEmbedding(wv=w2v_model.wv)"
   ]
  },
  {
   "cell_type": "code",
   "execution_count": null,
   "id": "5fadc213-fcbe-4ace-b205-ab1951de37ad",
   "metadata": {},
   "outputs": [],
   "source": [
    "w2v.plot_tsne_proyection()"
   ]
  },
  {
   "cell_type": "markdown",
   "id": "71f05536-b160-4fd1-bd01-3ee4baac0c6e",
   "metadata": {},
   "source": [
    "# Fasttext"
   ]
  },
  {
   "cell_type": "code",
   "execution_count": null,
   "id": "c99a396c-4de8-4b8d-98fd-3ba71950ca97",
   "metadata": {},
   "outputs": [],
   "source": [
    "from gensim.models.fasttext import FastText"
   ]
  },
  {
   "cell_type": "code",
   "execution_count": null,
   "id": "ecf970e0-354b-47f6-a5d5-c0215d898acd",
   "metadata": {},
   "outputs": [],
   "source": [
    "windows_size = 5\n",
    "vector_size = 10\n",
    "min_count = 2\n",
    "epochs=50"
   ]
  },
  {
   "cell_type": "code",
   "execution_count": null,
   "id": "1f740ce8-cee7-4cb4-9aae-8e54196620ad",
   "metadata": {},
   "outputs": [],
   "source": [
    "ft_model = FastText(\n",
    "    size=vector_size, \n",
    "    window=windows_size,\n",
    "    min_count=min_count,\n",
    ")"
   ]
  },
  {
   "cell_type": "code",
   "execution_count": null,
   "id": "ce664cfe-f99c-4db4-a6a3-f59a14fe5a5f",
   "metadata": {},
   "outputs": [],
   "source": [
    "ft_model.build_vocab(sentences=sents_tokens)"
   ]
  },
  {
   "cell_type": "code",
   "execution_count": null,
   "id": "39efee2a-12db-4966-bd21-d473d440d101",
   "metadata": {},
   "outputs": [],
   "source": [
    "ft_model.train(sentences=sents_tokens, total_examples=len(sents_tokens), epochs=epochs)  # train\n",
    "ft_model.save(f\"fasttext__size={vector_size}__window={windows_size}__min_count={min_count}__epochs={epochs}.model\")"
   ]
  },
  {
   "cell_type": "code",
   "execution_count": null,
   "id": "82395a88-26e3-4f84-8f36-9a82fb24f4ae",
   "metadata": {},
   "outputs": [],
   "source": [
    "ft = WordEmbedding(wv=ft_model.wv)"
   ]
  },
  {
   "cell_type": "code",
   "execution_count": null,
   "id": "6bbce63d-220c-4a44-abec-fa593a3c5955",
   "metadata": {},
   "outputs": [],
   "source": [
    "ft.plot_tsne_proyection(id_range=(0,1000))"
   ]
  },
  {
   "cell_type": "markdown",
   "id": "7a7371a9-b907-43d7-a7b6-5502c34147ee",
   "metadata": {},
   "source": [
    "Me gusta más Fasstext, incluso en la proyección ya se pueden observar cosas más interesantes"
   ]
  },
  {
   "cell_type": "markdown",
   "id": "20604a47-eb64-43bb-9a5b-0b86068b79d5",
   "metadata": {},
   "source": [
    "# Clustering"
   ]
  },
  {
   "cell_type": "code",
   "execution_count": null,
   "id": "25e1c6b9-f95d-4e00-b84c-56b5c0546504",
   "metadata": {},
   "outputs": [],
   "source": [
    "n_clusters = 50"
   ]
  },
  {
   "cell_type": "code",
   "execution_count": null,
   "id": "e6f17da1-41b1-4e14-8565-84ec6c8e66dd",
   "metadata": {},
   "outputs": [],
   "source": [
    "ft.train_clustering(\n",
    "    n_clusters=n_clusters,\n",
    "    clustering_method='agglomerative')"
   ]
  },
  {
   "cell_type": "code",
   "execution_count": null,
   "id": "0db9894f-7d06-4072-b9ba-ee713dc16c9a",
   "metadata": {},
   "outputs": [],
   "source": [
    "ft.print_clustering_results()"
   ]
  },
  {
   "cell_type": "code",
   "execution_count": null,
   "id": "0edaa498-e40b-4bce-98a4-55af67fa5805",
   "metadata": {},
   "outputs": [],
   "source": [
    "from sklearn.cluster import KMeans\n",
    "kmeans = KMeans(n_clusters=n_clusters, random_state=0).fit(X)"
   ]
  },
  {
   "cell_type": "code",
   "execution_count": null,
   "id": "d64f7012-89c3-4ab4-becf-42102391fc43",
   "metadata": {},
   "outputs": [],
   "source": [
    "kmeans.labels_"
   ]
  },
  {
   "cell_type": "code",
   "execution_count": null,
   "id": "b68b278f-9713-4b34-afb0-03dc71273dd0",
   "metadata": {},
   "outputs": [],
   "source": [
    "from collections import defaultdict"
   ]
  },
  {
   "cell_type": "code",
   "execution_count": null,
   "id": "7066b17c-eec2-4069-85fb-8c933a9d7f10",
   "metadata": {},
   "outputs": [],
   "source": [
    "word_clusters = defaultdict(list)\n",
    "for word,label in zip(ft_vectors.index2word , kmeans.labels_):\n",
    "    word_clusters[label].append(word)"
   ]
  },
  {
   "cell_type": "code",
   "execution_count": null,
   "id": "66640b5a-3193-40c4-ae73-629e1c7d81d6",
   "metadata": {},
   "outputs": [],
   "source": [
    "import matplotlib.cm as cm\n",
    "from matplotlib.colors import Normalize\n",
    "\n",
    "cmap = cm.viridis\n",
    "norm = Normalize(vmin=0, vmax=n_clusters)"
   ]
  },
  {
   "cell_type": "code",
   "execution_count": null,
   "id": "a3ac8617-b22d-418c-afe0-5f2dd095c41f",
   "metadata": {},
   "outputs": [],
   "source": [
    "word_by_cluster = {word:cluster for word,cluster in zip(ft_vectors.index2word,kmeans.labels_)}"
   ]
  },
  {
   "cell_type": "code",
   "execution_count": null,
   "id": "21c0830d-bf55-49eb-a98d-bca8061838dd",
   "metadata": {},
   "outputs": [],
   "source": [
    "from sklearn.manifold import TSNE\n",
    "from matplotlib import pylab as plt\n",
    "\n",
    "# obtener las palabras más comunes en el corpus, entre la 200 y la 600\n",
    "words = [word for word in model_wv.index2word[200:1000]]\n",
    "\n",
    "# convertirlas a vector\n",
    "embeddings = [model_wv[word] for word in words]\n",
    "\n",
    "#  T-SNEde\n",
    "words_embedded = TSNE(n_components=2, random_state=1).fit_transform(embeddings)\n",
    "\n",
    "# ... and visualize!\n",
    "plt.figure(figsize=(20, 20))\n",
    "for i, label in enumerate(words):\n",
    "    x, y = words_embedded[i, :]\n",
    "    cluster_color = cmap(norm(word_by_cluster[label]))\n",
    "    plt.scatter(x, y, c=cluster_color)\n",
    "    plt.annotate(label, xy=(x, y), xytext=(5, 2), textcoords='offset points',\n",
    "                 ha='right', va='bottom', size=11)\n",
    "plt.show()"
   ]
  },
  {
   "cell_type": "markdown",
   "id": "012ecab9-1285-45d6-8b4d-037d60538c98",
   "metadata": {},
   "source": [
    "# Conversion a vector de TFIDF de oraciones"
   ]
  },
  {
   "cell_type": "code",
   "execution_count": null,
   "id": "739c150f-d51e-4747-b191-3297c7a6c6b4",
   "metadata": {},
   "outputs": [],
   "source": [
    "from sklearn.feature_extraction.text import TfidfVectorizer\n",
    "nltk_stopwords = nltk.corpus.stopwords.words('spanish')"
   ]
  },
  {
   "cell_type": "code",
   "execution_count": null,
   "id": "dbaa096b-1ac0-4bff-9219-cf4697480811",
   "metadata": {},
   "outputs": [],
   "source": [
    "tfidf = TfidfVectorizer(stop_words=nltk_stopwords,min_df=2)"
   ]
  },
  {
   "cell_type": "code",
   "execution_count": null,
   "id": "c5e8ba8f-6594-441a-b1c6-e71cbef55886",
   "metadata": {},
   "outputs": [],
   "source": [
    "tfidf_sents = [\" \".join(sent) for sent in norm_sents]"
   ]
  },
  {
   "cell_type": "code",
   "execution_count": null,
   "id": "81bb3a06-716c-4daa-a472-bfb72d73301e",
   "metadata": {},
   "outputs": [],
   "source": [
    "tfidf_matrix = tfidf.fit_transform(tfidf_sents)"
   ]
  },
  {
   "cell_type": "markdown",
   "id": "a0190158-522e-4a21-b6f2-edeec1d7a915",
   "metadata": {},
   "source": [
    "### Construiimos el vector de cada palabra como su ocurrencia en oraciones"
   ]
  },
  {
   "cell_type": "code",
   "execution_count": null,
   "id": "82e46cb6-3287-4174-98c7-d384031233df",
   "metadata": {},
   "outputs": [],
   "source": [
    "word_matrix = tfidf_matrix.transpose()"
   ]
  },
  {
   "cell_type": "code",
   "execution_count": null,
   "id": "941fd72c-3414-4414-a73a-9255b1047b5d",
   "metadata": {},
   "outputs": [],
   "source": [
    "word_matrix"
   ]
  },
  {
   "cell_type": "markdown",
   "id": "098d9152-eb81-45ae-9834-4df670abc6f5",
   "metadata": {},
   "source": [
    "# AgglomerativeClustering"
   ]
  },
  {
   "cell_type": "code",
   "execution_count": null,
   "id": "bf02319d-d6e3-40eb-b5cd-67a29e73af84",
   "metadata": {},
   "outputs": [],
   "source": [
    "from sklearn.cluster import AgglomerativeClustering"
   ]
  },
  {
   "cell_type": "code",
   "execution_count": null,
   "id": "b57872cd-12b7-4996-a73e-25f275ce5758",
   "metadata": {},
   "outputs": [],
   "source": [
    "agc = AgglomerativeClustering(\n",
    "    affinity='cosine',\n",
    "    n_clusters=100,\n",
    "    linkage='average')"
   ]
  },
  {
   "cell_type": "code",
   "execution_count": null,
   "id": "1ed616de-276c-4339-aca3-7c31f26edd70",
   "metadata": {},
   "outputs": [],
   "source": [
    "agc.n_clusters_"
   ]
  },
  {
   "cell_type": "code",
   "execution_count": null,
   "id": "f0d3a608-9ee7-490e-8390-4aaa69ea4bae",
   "metadata": {},
   "outputs": [],
   "source": [
    "clusters = agc.fit_predict(word_matrix.toarray())"
   ]
  },
  {
   "cell_type": "code",
   "execution_count": null,
   "id": "7256b477-0644-42a9-abf6-9e06535374d1",
   "metadata": {},
   "outputs": [],
   "source": []
  }
 ],
 "metadata": {
  "kernelspec": {
   "display_name": "Python 3",
   "language": "python",
   "name": "python3"
  },
  "language_info": {
   "codemirror_mode": {
    "name": "ipython",
    "version": 3
   },
   "file_extension": ".py",
   "mimetype": "text/x-python",
   "name": "python",
   "nbconvert_exporter": "python",
   "pygments_lexer": "ipython3",
   "version": "3.8.8"
  }
 },
 "nbformat": 4,
 "nbformat_minor": 5
}
