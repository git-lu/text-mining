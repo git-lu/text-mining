{
 "cells": [
  {
   "cell_type": "code",
   "execution_count": 15,
   "id": "a4e9cad2-c89a-4f58-be4a-5c4e89945290",
   "metadata": {},
   "outputs": [],
   "source": [
    "import numpy as np\n",
    "from collections import Counter"
   ]
  },
  {
   "cell_type": "code",
   "execution_count": 2,
   "id": "5215da7f-0082-499a-bf61-2995d8d76aa9",
   "metadata": {},
   "outputs": [],
   "source": [
    "fp = 'malba_dataset_completo_ficha_tecnica_sin_formato.npy'"
   ]
  },
  {
   "cell_type": "code",
   "execution_count": 47,
   "id": "74bcc6e8-3871-4db9-a929-dbf1107c9fe9",
   "metadata": {},
   "outputs": [],
   "source": [
    "data = np.load(fp,allow_pickle=True)"
   ]
  },
  {
   "cell_type": "code",
   "execution_count": 48,
   "id": "a2efee1c-28ba-4138-b432-35b8ee2aba09",
   "metadata": {},
   "outputs": [
    {
     "data": {
      "text/plain": [
       "{'ficha_tecnica': 'Duración interna, 2018 - Ficha técnica - Titulo: Duración interna - Año: 2018 - Técnica: Madera, pintura, cartas - 20,5 x 118 x 10 cm - Nro. de inventario: 2018.08 - Donación: Del artista y de la galería Isla Flotante, 2018 - Fuera de exposición',\n",
       " 'link_obra': 'https://coleccion.malba.org.ar/artistas/accinelli-pablo/',\n",
       " 'texto': '',\n",
       " 'link_autor': 'https://coleccion.malba.org.ar/artistas/accinelli-pablo/'}"
      ]
     },
     "execution_count": 48,
     "metadata": {},
     "output_type": "execute_result"
    }
   ],
   "source": [
    "data[0]"
   ]
  },
  {
   "cell_type": "code",
   "execution_count": 49,
   "id": "e46b52ec-b756-44c3-9fad-8e792455a0da",
   "metadata": {},
   "outputs": [],
   "source": [
    "fichas_tecnicas = {o['link_obra']:o['ficha_tecnica'] for o in data}"
   ]
  },
  {
   "cell_type": "code",
   "execution_count": 123,
   "id": "d0ee2895-b602-447f-b474-5e41a52b8197",
   "metadata": {},
   "outputs": [],
   "source": [
    "tokens_txt_fichas_tecnicas = ''.join(fichas_tecnicas.values()).split(' ')"
   ]
  },
  {
   "cell_type": "code",
   "execution_count": 51,
   "id": "4748f4ad-0a48-4380-953a-e85a6a71cf62",
   "metadata": {},
   "outputs": [],
   "source": [
    "f = data[0]['ficha_tecnica']"
   ]
  },
  {
   "cell_type": "code",
   "execution_count": 52,
   "id": "be01d9f7-1db8-4b3b-a5bd-3234b41b49ad",
   "metadata": {},
   "outputs": [],
   "source": [
    "info = f.split('-')"
   ]
  },
  {
   "cell_type": "code",
   "execution_count": 53,
   "id": "20c5390b-ccf7-49e8-87b4-4f66b7fe291e",
   "metadata": {},
   "outputs": [
    {
     "data": {
      "text/plain": [
       "[' Titulo: Duración interna ',\n",
       " ' Año: 2018 ',\n",
       " ' Técnica: Madera, pintura, cartas ',\n",
       " ' 20,5 x 118 x 10 cm ',\n",
       " ' Nro. de inventario: 2018.08 ',\n",
       " ' Donación: Del artista y de la galería Isla Flotante, 2018 ',\n",
       " ' Fuera de exposición']"
      ]
     },
     "execution_count": 53,
     "metadata": {},
     "output_type": "execute_result"
    }
   ],
   "source": [
    "info[2:]"
   ]
  },
  {
   "cell_type": "code",
   "execution_count": 143,
   "id": "5516e977-ec36-452b-8a87-4e74b0d74b87",
   "metadata": {},
   "outputs": [],
   "source": [
    "def get_structured_info(ficha_tecnica):\n",
    "    structured_info = {}\n",
    "    info = ficha_tecnica.split('-')\n",
    "    for line in info[2:]:\n",
    "        if ':' in line:\n",
    "            column, value = line.strip().split(':',maxsplit=1)\n",
    "            structured_info[column] = value.strip()\n",
    "        elif 'x' in line and any(c.isdigit() for c in line):\n",
    "            structured_info['Medidas'] = line\n",
    "        elif 'En exposición' in line:\n",
    "            structured_info['En exposición'] = True\n",
    "            break\n",
    "        elif 'Fuera de exposición' in line:\n",
    "            structured_info['En exposición'] = False\n",
    "            break\n",
    "    return structured_info"
   ]
  },
  {
   "cell_type": "code",
   "execution_count": 144,
   "id": "6c316422-8812-4131-bdd5-1d19df408f77",
   "metadata": {},
   "outputs": [
    {
     "data": {
      "text/plain": [
       "'Prehistoria, 2005 - Ficha técnica - Titulo: Prehistoria - Año: 2005 - Técnica: Animación en video Edición 3 de 5 + 1 P/A - Duración: 29 minutos 33 segundos - Nro. de inventario: 2006.02 - Donación: Adquisición gracias al aporte de Sergio Quattrini y Fundación Eduardo F. Costantini, 2006 - Fuera de exposición'"
      ]
     },
     "execution_count": 144,
     "metadata": {},
     "output_type": "execute_result"
    }
   ],
   "source": [
    "data[1]['ficha_tecnica']"
   ]
  },
  {
   "cell_type": "code",
   "execution_count": 145,
   "id": "c672242f-5baf-472a-a686-170b6b400834",
   "metadata": {},
   "outputs": [
    {
     "data": {
      "text/plain": [
       "{'Titulo': 'Prehistoria',\n",
       " 'Año': '2005',\n",
       " 'Técnica': 'Animación en video Edición 3 de 5 + 1 P/A',\n",
       " 'Duración': '29 minutos 33 segundos',\n",
       " 'Nro. de inventario': '2006.02',\n",
       " 'Donación': 'Adquisición gracias al aporte de Sergio Quattrini y Fundación Eduardo F. Costantini, 2006',\n",
       " 'En exposición': False}"
      ]
     },
     "execution_count": 145,
     "metadata": {},
     "output_type": "execute_result"
    }
   ],
   "source": [
    "get_structured_info(data[1]['ficha_tecnica'])"
   ]
  },
  {
   "cell_type": "code",
   "execution_count": 158,
   "id": "b6da51da-e1b7-4be7-a646-2fe04ce6ed1f",
   "metadata": {},
   "outputs": [],
   "source": [
    "obras_clean = []\n",
    "for obra in data:\n",
    "    structured_info = get_structured_info(obra['ficha_tecnica'])\n",
    "    obra_clean = {\n",
    "        'URL_obra': obra['link_obra'],\n",
    "        'Texto': obra['texto'] if obra['texto'] else None,\n",
    "        'URL_autor': obra['link_autor']\n",
    "    }\n",
    "    obra_clean_final = dict(obra_clean, **structured_info)\n",
    "    obras_clean.append(obra_clean_final)"
   ]
  },
  {
   "cell_type": "code",
   "execution_count": 159,
   "id": "dde3982d-96fc-44f3-9663-ed5c97fbcaaa",
   "metadata": {},
   "outputs": [],
   "source": [
    "import pandas as pd"
   ]
  },
  {
   "cell_type": "code",
   "execution_count": 160,
   "id": "f098a2ec-bbdb-485f-982d-e107e821b65e",
   "metadata": {},
   "outputs": [
    {
     "data": {
      "text/plain": [
       "[{'URL_obra': 'https://coleccion.malba.org.ar/artistas/accinelli-pablo/',\n",
       "  'Texto': None,\n",
       "  'URL_autor': 'https://coleccion.malba.org.ar/artistas/accinelli-pablo/',\n",
       "  'Titulo': 'Duración interna',\n",
       "  'Año': '2018',\n",
       "  'Técnica': 'Madera, pintura, cartas',\n",
       "  'Medidas': ' 20,5 x 118 x 10 cm ',\n",
       "  'Nro. de inventario': '2018.08',\n",
       "  'Donación': 'Del artista y de la galería Isla Flotante, 2018',\n",
       "  'En exposición': False},\n",
       " {'URL_obra': 'https://coleccion.malba.org.ar/artistas/acevedo-velarde-gabriel/',\n",
       "  'Texto': None,\n",
       "  'URL_autor': 'https://coleccion.malba.org.ar/artistas/acevedo-velarde-gabriel/',\n",
       "  'Titulo': 'Prehistoria',\n",
       "  'Año': '2005',\n",
       "  'Técnica': 'Animación en video Edición 3 de 5 + 1 P/A',\n",
       "  'Duración': '29 minutos 33 segundos',\n",
       "  'Nro. de inventario': '2006.02',\n",
       "  'Donación': 'Adquisición gracias al aporte de Sergio Quattrini y Fundación Eduardo F. Costantini, 2006',\n",
       "  'En exposición': False}]"
      ]
     },
     "execution_count": 160,
     "metadata": {},
     "output_type": "execute_result"
    }
   ],
   "source": [
    "obras_clean[:2]"
   ]
  },
  {
   "cell_type": "code",
   "execution_count": 161,
   "id": "28bbc4cb-68da-4366-aaec-6f75f3c1dcbd",
   "metadata": {},
   "outputs": [],
   "source": [
    "df_obras = pd.DataFrame(obras_clean)"
   ]
  },
  {
   "cell_type": "code",
   "execution_count": 167,
   "id": "5f7fc5f4-28ff-4e60-b1d8-4a7d2fd74937",
   "metadata": {},
   "outputs": [],
   "source": [
    "df_obras_clean = df_obras.dropna(axis=1,thresh=15)"
   ]
  },
  {
   "cell_type": "code",
   "execution_count": 168,
   "id": "8ce6e801-7ef1-4364-b677-a20436508985",
   "metadata": {},
   "outputs": [
    {
     "name": "stdout",
     "output_type": "stream",
     "text": [
      "<class 'pandas.core.frame.DataFrame'>\n",
      "RangeIndex: 569 entries, 0 to 568\n",
      "Data columns (total 11 columns):\n",
      " #   Column              Non-Null Count  Dtype \n",
      "---  ------              --------------  ----- \n",
      " 0   URL_obra            569 non-null    object\n",
      " 1   Texto               277 non-null    object\n",
      " 2   URL_autor           569 non-null    object\n",
      " 3   Titulo              569 non-null    object\n",
      " 4   Año                 569 non-null    object\n",
      " 5   Técnica             569 non-null    object\n",
      " 6   Medidas             251 non-null    object\n",
      " 7   Nro. de inventario  569 non-null    object\n",
      " 8   Donación            547 non-null    object\n",
      " 9   En exposición       569 non-null    bool  \n",
      " 10  Duración            18 non-null     object\n",
      "dtypes: bool(1), object(10)\n",
      "memory usage: 45.1+ KB\n"
     ]
    }
   ],
   "source": [
    "df_obras_clean.info()"
   ]
  },
  {
   "cell_type": "code",
   "execution_count": 169,
   "id": "21c6ef8f-b5ae-42b6-b9a0-807b91b8ef0e",
   "metadata": {},
   "outputs": [],
   "source": [
    "df_obras_clean.to_csv('datos_estructurados_malba',index=False)"
   ]
  },
  {
   "cell_type": "code",
   "execution_count": null,
   "id": "82e26454-8ceb-4a2c-80f3-a9734d80ef88",
   "metadata": {},
   "outputs": [],
   "source": []
  }
 ],
 "metadata": {
  "kernelspec": {
   "display_name": "Python 3",
   "language": "python",
   "name": "python3"
  },
  "language_info": {
   "codemirror_mode": {
    "name": "ipython",
    "version": 3
   },
   "file_extension": ".py",
   "mimetype": "text/x-python",
   "name": "python",
   "nbconvert_exporter": "python",
   "pygments_lexer": "ipython3",
   "version": "3.8.8"
  }
 },
 "nbformat": 4,
 "nbformat_minor": 5
}
